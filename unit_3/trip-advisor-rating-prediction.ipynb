{
 "cells": [
  {
   "cell_type": "markdown",
   "execution_count": null,
   "metadata": {},
   "source": [
    "# IMPORT"
   ]
  },
  {
   "cell_type": "code",
   "execution_count": 1,
   "metadata": {
    "_cell_guid": "b1076dfc-b9ad-4769-8c92-a6c4dae69d19",
    "_uuid": "8f2839f25d086af736a60e9eeb907d3b93b6e0e5"
   },
   "outputs": [
    {
     "name": "stdout",
     "output_type": "stream",
     "text": [
      "/kaggle/input/sf-dst-restaurant-rating/kaggle_task.csv\n",
      "/kaggle/input/sf-dst-restaurant-rating/main_task.csv\n",
      "/kaggle/input/sf-dst-restaurant-rating/sample_submission.csv\n"
     ]
    }
   ],
   "source": [
    "# This Python 3 environment comes with many helpful analytics libraries installed\n",
    "# It is defined by the kaggle/python Docker image: https://github.com/kaggle/docker-python\n",
    "# For example, here's several helpful packages to load\n",
    "\n",
    "import numpy as np # linear algebra\n",
    "import pandas as pd # data processing, CSV file I/O (e.g. pd.read_csv)\n",
    "\n",
    "import matplotlib.pyplot as plt\n",
    "import seaborn as sns \n",
    "%matplotlib inline\n",
    "\n",
    "# Загружаем модули для работы с датой и временем\n",
    "from datetime import datetime\n",
    "from datetime import timedelta\n",
    "\n",
    "# Загружаем модуль для работы с регулярными выражениями\n",
    "import re\n",
    "\n",
    "# Загружаем специальный удобный инструмент для разделения датасета:\n",
    "from sklearn.model_selection import train_test_split\n",
    "\n",
    "import requests \n",
    "from bs4 import BeautifulSoup\n",
    "\n",
    "# Input data files are available in the read-only \"../input/\" directory\n",
    "# For example, running this (by clicking run or pressing Shift+Enter) will list all files under the input directory\n",
    "\n",
    "import os\n",
    "for dirname, _, filenames in os.walk('/kaggle/input'):\n",
    "    for filename in filenames:\n",
    "        print(os.path.join(dirname, filename))\n",
    "\n",
    "# You can write up to 5GB to the current directory (/kaggle/working/) that gets preserved as output when you create a version using \"Save & Run All\" \n",
    "# You can also write temporary files to /kaggle/temp/, but they won't be saved outside of the current session\n",
    "\n",
    "RANDOM_SEED = 42\n",
    "!pip freeze > requirements.txt"
   ]
  },
  {
   "cell_type": "code",
   "execution_count": 2,
   "metadata": {
    "_cell_guid": "79c7e3d0-c299-4dcb-8224-4455121ee9b0",
    "_uuid": "d629ff2d2480ee46fbb7e2d37f6b5fab8052498a"
   },
   "outputs": [],
   "source": [
    "DATA_DIR = '/kaggle/input/sf-dst-restaurant-rating/'\n",
    "df_train = pd.read_csv(DATA_DIR+'/main_task.csv')\n",
    "df_test = pd.read_csv(DATA_DIR+'kaggle_task.csv')\n",
    "sample_submission = pd.read_csv(DATA_DIR+'/sample_submission.csv')"
   ]
  },
  {
   "cell_type": "markdown",
   "execution_count": null,
   "metadata": {},
   "source": [
    "# DATA"
   ]
  },
  {
   "cell_type": "code",
   "execution_count": 3,
   "metadata": {},
   "outputs": [
    {
     "data": {
      "text/html": [
       "<div>\n",
       "<style scoped>\n",
       "    .dataframe tbody tr th:only-of-type {\n",
       "        vertical-align: middle;\n",
       "    }\n",
       "\n",
       "    .dataframe tbody tr th {\n",
       "        vertical-align: top;\n",
       "    }\n",
       "\n",
       "    .dataframe thead th {\n",
       "        text-align: right;\n",
       "    }\n",
       "</style>\n",
       "<table border=\"1\" class=\"dataframe\">\n",
       "  <thead>\n",
       "    <tr style=\"text-align: right;\">\n",
       "      <th></th>\n",
       "      <th>Restaurant_id</th>\n",
       "      <th>City</th>\n",
       "      <th>Cuisine Style</th>\n",
       "      <th>Ranking</th>\n",
       "      <th>Rating</th>\n",
       "      <th>Price Range</th>\n",
       "      <th>Number of Reviews</th>\n",
       "      <th>Reviews</th>\n",
       "      <th>URL_TA</th>\n",
       "      <th>ID_TA</th>\n",
       "    </tr>\n",
       "  </thead>\n",
       "  <tbody>\n",
       "    <tr>\n",
       "      <th>0</th>\n",
       "      <td>id_5569</td>\n",
       "      <td>Paris</td>\n",
       "      <td>['European', 'French', 'International']</td>\n",
       "      <td>5570.0</td>\n",
       "      <td>3.5</td>\n",
       "      <td>$$ - $$$</td>\n",
       "      <td>194.0</td>\n",
       "      <td>[['Good food at your doorstep', 'A good hotel ...</td>\n",
       "      <td>/Restaurant_Review-g187147-d1912643-Reviews-R_...</td>\n",
       "      <td>d1912643</td>\n",
       "    </tr>\n",
       "    <tr>\n",
       "      <th>1</th>\n",
       "      <td>id_1535</td>\n",
       "      <td>Stockholm</td>\n",
       "      <td>NaN</td>\n",
       "      <td>1537.0</td>\n",
       "      <td>4.0</td>\n",
       "      <td>NaN</td>\n",
       "      <td>10.0</td>\n",
       "      <td>[['Unique cuisine', 'Delicious Nepalese food']...</td>\n",
       "      <td>/Restaurant_Review-g189852-d7992032-Reviews-Bu...</td>\n",
       "      <td>d7992032</td>\n",
       "    </tr>\n",
       "    <tr>\n",
       "      <th>2</th>\n",
       "      <td>id_352</td>\n",
       "      <td>London</td>\n",
       "      <td>['Japanese', 'Sushi', 'Asian', 'Grill', 'Veget...</td>\n",
       "      <td>353.0</td>\n",
       "      <td>4.5</td>\n",
       "      <td>$$$$</td>\n",
       "      <td>688.0</td>\n",
       "      <td>[['Catch up with friends', 'Not exceptional'],...</td>\n",
       "      <td>/Restaurant_Review-g186338-d8632781-Reviews-RO...</td>\n",
       "      <td>d8632781</td>\n",
       "    </tr>\n",
       "    <tr>\n",
       "      <th>3</th>\n",
       "      <td>id_3456</td>\n",
       "      <td>Berlin</td>\n",
       "      <td>NaN</td>\n",
       "      <td>3458.0</td>\n",
       "      <td>5.0</td>\n",
       "      <td>NaN</td>\n",
       "      <td>3.0</td>\n",
       "      <td>[[], []]</td>\n",
       "      <td>/Restaurant_Review-g187323-d1358776-Reviews-Es...</td>\n",
       "      <td>d1358776</td>\n",
       "    </tr>\n",
       "    <tr>\n",
       "      <th>4</th>\n",
       "      <td>id_615</td>\n",
       "      <td>Munich</td>\n",
       "      <td>['German', 'Central European', 'Vegetarian Fri...</td>\n",
       "      <td>621.0</td>\n",
       "      <td>4.0</td>\n",
       "      <td>$$ - $$$</td>\n",
       "      <td>84.0</td>\n",
       "      <td>[['Best place to try a Bavarian food', 'Nice b...</td>\n",
       "      <td>/Restaurant_Review-g187309-d6864963-Reviews-Au...</td>\n",
       "      <td>d6864963</td>\n",
       "    </tr>\n",
       "  </tbody>\n",
       "</table>\n",
       "</div>"
      ],
      "text/plain": [
       "  Restaurant_id       City                                      Cuisine Style  \\\n",
       "0       id_5569      Paris            ['European', 'French', 'International']   \n",
       "1       id_1535  Stockholm                                                NaN   \n",
       "2        id_352     London  ['Japanese', 'Sushi', 'Asian', 'Grill', 'Veget...   \n",
       "3       id_3456     Berlin                                                NaN   \n",
       "4        id_615     Munich  ['German', 'Central European', 'Vegetarian Fri...   \n",
       "\n",
       "   Ranking  Rating Price Range  Number of Reviews  \\\n",
       "0   5570.0     3.5    $$ - $$$              194.0   \n",
       "1   1537.0     4.0         NaN               10.0   \n",
       "2    353.0     4.5        $$$$              688.0   \n",
       "3   3458.0     5.0         NaN                3.0   \n",
       "4    621.0     4.0    $$ - $$$               84.0   \n",
       "\n",
       "                                             Reviews  \\\n",
       "0  [['Good food at your doorstep', 'A good hotel ...   \n",
       "1  [['Unique cuisine', 'Delicious Nepalese food']...   \n",
       "2  [['Catch up with friends', 'Not exceptional'],...   \n",
       "3                                           [[], []]   \n",
       "4  [['Best place to try a Bavarian food', 'Nice b...   \n",
       "\n",
       "                                              URL_TA     ID_TA  \n",
       "0  /Restaurant_Review-g187147-d1912643-Reviews-R_...  d1912643  \n",
       "1  /Restaurant_Review-g189852-d7992032-Reviews-Bu...  d7992032  \n",
       "2  /Restaurant_Review-g186338-d8632781-Reviews-RO...  d8632781  \n",
       "3  /Restaurant_Review-g187323-d1358776-Reviews-Es...  d1358776  \n",
       "4  /Restaurant_Review-g187309-d6864963-Reviews-Au...  d6864963  "
      ]
     },
     "execution_count": 3,
     "metadata": {},
     "output_type": "execute_result"
    }
   ],
   "source": [
    "df_train.head()"
   ]
  },
  {
   "cell_type": "code",
   "execution_count": 4,
   "metadata": {},
   "outputs": [
    {
     "name": "stdout",
     "output_type": "stream",
     "text": [
      "<class 'pandas.core.frame.DataFrame'>\n",
      "RangeIndex: 40000 entries, 0 to 39999\n",
      "Data columns (total 10 columns):\n",
      " #   Column             Non-Null Count  Dtype  \n",
      "---  ------             --------------  -----  \n",
      " 0   Restaurant_id      40000 non-null  object \n",
      " 1   City               40000 non-null  object \n",
      " 2   Cuisine Style      30717 non-null  object \n",
      " 3   Ranking            40000 non-null  float64\n",
      " 4   Rating             40000 non-null  float64\n",
      " 5   Price Range        26114 non-null  object \n",
      " 6   Number of Reviews  37457 non-null  float64\n",
      " 7   Reviews            40000 non-null  object \n",
      " 8   URL_TA             40000 non-null  object \n",
      " 9   ID_TA              40000 non-null  object \n",
      "dtypes: float64(3), object(7)\n",
      "memory usage: 3.1+ MB\n"
     ]
    }
   ],
   "source": [
    "\"\"\"Посмотрим на пропуски и на то, какие данные могут быть категориальными\"\"\"\n",
    "df_train.info()"
   ]
  },
  {
   "cell_type": "code",
   "execution_count": 5,
   "metadata": {},
   "outputs": [
    {
     "data": {
      "text/html": [
       "<div>\n",
       "<style scoped>\n",
       "    .dataframe tbody tr th:only-of-type {\n",
       "        vertical-align: middle;\n",
       "    }\n",
       "\n",
       "    .dataframe tbody tr th {\n",
       "        vertical-align: top;\n",
       "    }\n",
       "\n",
       "    .dataframe thead th {\n",
       "        text-align: right;\n",
       "    }\n",
       "</style>\n",
       "<table border=\"1\" class=\"dataframe\">\n",
       "  <thead>\n",
       "    <tr style=\"text-align: right;\">\n",
       "      <th></th>\n",
       "      <th>Restaurant_id</th>\n",
       "      <th>City</th>\n",
       "      <th>Cuisine Style</th>\n",
       "      <th>Ranking</th>\n",
       "      <th>Price Range</th>\n",
       "      <th>Number of Reviews</th>\n",
       "      <th>Reviews</th>\n",
       "      <th>URL_TA</th>\n",
       "      <th>ID_TA</th>\n",
       "    </tr>\n",
       "  </thead>\n",
       "  <tbody>\n",
       "    <tr>\n",
       "      <th>0</th>\n",
       "      <td>id_0</td>\n",
       "      <td>Paris</td>\n",
       "      <td>['Bar', 'Pub']</td>\n",
       "      <td>12963.0</td>\n",
       "      <td>$$ - $$$</td>\n",
       "      <td>4.0</td>\n",
       "      <td>[[], []]</td>\n",
       "      <td>/Restaurant_Review-g187147-d10746918-Reviews-L...</td>\n",
       "      <td>d10746918</td>\n",
       "    </tr>\n",
       "    <tr>\n",
       "      <th>1</th>\n",
       "      <td>id_1</td>\n",
       "      <td>Helsinki</td>\n",
       "      <td>['European', 'Scandinavian', 'Gluten Free Opti...</td>\n",
       "      <td>106.0</td>\n",
       "      <td>$$ - $$$</td>\n",
       "      <td>97.0</td>\n",
       "      <td>[['Very good reviews!', 'Fine dining in Hakani...</td>\n",
       "      <td>/Restaurant_Review-g189934-d6674944-Reviews-Ra...</td>\n",
       "      <td>d6674944</td>\n",
       "    </tr>\n",
       "    <tr>\n",
       "      <th>2</th>\n",
       "      <td>id_2</td>\n",
       "      <td>Edinburgh</td>\n",
       "      <td>['Vegetarian Friendly']</td>\n",
       "      <td>810.0</td>\n",
       "      <td>$$ - $$$</td>\n",
       "      <td>28.0</td>\n",
       "      <td>[['Better than the Links', 'Ivy Black'], ['12/...</td>\n",
       "      <td>/Restaurant_Review-g186525-d13129638-Reviews-B...</td>\n",
       "      <td>d13129638</td>\n",
       "    </tr>\n",
       "    <tr>\n",
       "      <th>3</th>\n",
       "      <td>id_3</td>\n",
       "      <td>London</td>\n",
       "      <td>['Italian', 'Mediterranean', 'European', 'Vege...</td>\n",
       "      <td>1669.0</td>\n",
       "      <td>$$$$</td>\n",
       "      <td>202.0</td>\n",
       "      <td>[['Most exquisite', 'Delicious and authentic']...</td>\n",
       "      <td>/Restaurant_Review-g186338-d680417-Reviews-Qui...</td>\n",
       "      <td>d680417</td>\n",
       "    </tr>\n",
       "    <tr>\n",
       "      <th>4</th>\n",
       "      <td>id_4</td>\n",
       "      <td>Bratislava</td>\n",
       "      <td>['Italian', 'Mediterranean', 'European', 'Seaf...</td>\n",
       "      <td>37.0</td>\n",
       "      <td>$$$$</td>\n",
       "      <td>162.0</td>\n",
       "      <td>[['Always the best in bratislava', 'Very good ...</td>\n",
       "      <td>/Restaurant_Review-g274924-d1112354-Reviews-Ma...</td>\n",
       "      <td>d1112354</td>\n",
       "    </tr>\n",
       "  </tbody>\n",
       "</table>\n",
       "</div>"
      ],
      "text/plain": [
       "  Restaurant_id        City  \\\n",
       "0          id_0       Paris   \n",
       "1          id_1    Helsinki   \n",
       "2          id_2   Edinburgh   \n",
       "3          id_3      London   \n",
       "4          id_4  Bratislava   \n",
       "\n",
       "                                       Cuisine Style  Ranking Price Range  \\\n",
       "0                                     ['Bar', 'Pub']  12963.0    $$ - $$$   \n",
       "1  ['European', 'Scandinavian', 'Gluten Free Opti...    106.0    $$ - $$$   \n",
       "2                            ['Vegetarian Friendly']    810.0    $$ - $$$   \n",
       "3  ['Italian', 'Mediterranean', 'European', 'Vege...   1669.0        $$$$   \n",
       "4  ['Italian', 'Mediterranean', 'European', 'Seaf...     37.0        $$$$   \n",
       "\n",
       "   Number of Reviews                                            Reviews  \\\n",
       "0                4.0                                           [[], []]   \n",
       "1               97.0  [['Very good reviews!', 'Fine dining in Hakani...   \n",
       "2               28.0  [['Better than the Links', 'Ivy Black'], ['12/...   \n",
       "3              202.0  [['Most exquisite', 'Delicious and authentic']...   \n",
       "4              162.0  [['Always the best in bratislava', 'Very good ...   \n",
       "\n",
       "                                              URL_TA      ID_TA  \n",
       "0  /Restaurant_Review-g187147-d10746918-Reviews-L...  d10746918  \n",
       "1  /Restaurant_Review-g189934-d6674944-Reviews-Ra...   d6674944  \n",
       "2  /Restaurant_Review-g186525-d13129638-Reviews-B...  d13129638  \n",
       "3  /Restaurant_Review-g186338-d680417-Reviews-Qui...    d680417  \n",
       "4  /Restaurant_Review-g274924-d1112354-Reviews-Ma...   d1112354  "
      ]
     },
     "execution_count": 5,
     "metadata": {},
     "output_type": "execute_result"
    }
   ],
   "source": [
    "df_test.head()"
   ]
  },
  {
   "cell_type": "code",
   "execution_count": 6,
   "metadata": {},
   "outputs": [
    {
     "name": "stdout",
     "output_type": "stream",
     "text": [
      "<class 'pandas.core.frame.DataFrame'>\n",
      "RangeIndex: 10000 entries, 0 to 9999\n",
      "Data columns (total 9 columns):\n",
      " #   Column             Non-Null Count  Dtype  \n",
      "---  ------             --------------  -----  \n",
      " 0   Restaurant_id      10000 non-null  object \n",
      " 1   City               10000 non-null  object \n",
      " 2   Cuisine Style      7693 non-null   object \n",
      " 3   Ranking            10000 non-null  float64\n",
      " 4   Price Range        6525 non-null   object \n",
      " 5   Number of Reviews  9343 non-null   float64\n",
      " 6   Reviews            9998 non-null   object \n",
      " 7   URL_TA             10000 non-null  object \n",
      " 8   ID_TA              10000 non-null  object \n",
      "dtypes: float64(2), object(7)\n",
      "memory usage: 703.2+ KB\n"
     ]
    }
   ],
   "source": [
    "df_test.info()"
   ]
  },
  {
   "cell_type": "code",
   "execution_count": 7,
   "metadata": {},
   "outputs": [],
   "source": [
    "# Для того, чтобы обработать признаки в обеих частях (и в тренировочной и тестовой) объединяем эти части в один датасет\n",
    "df_train['sample'] = 1 # помечаем трейн\n",
    "df_test['sample'] = 0 # помечаем нас тест\n",
    "df_test['Rating'] = 0 # заполняем нулями рейтинг в тестовой части, где его пока нет\n",
    "data = df_test.append(df_train, sort=False).reset_index(drop=True) # объединяем"
   ]
  },
  {
   "cell_type": "code",
   "execution_count": 8,
   "metadata": {},
   "outputs": [
    {
     "data": {
      "text/plain": [
       "Restaurant_id        13094\n",
       "City                    31\n",
       "Cuisine Style        10732\n",
       "Ranking              12975\n",
       "Price Range              4\n",
       "Number of Reviews     1574\n",
       "Reviews              41858\n",
       "URL_TA               49963\n",
       "ID_TA                49963\n",
       "sample                   2\n",
       "Rating                  10\n",
       "dtype: int64"
      ]
     },
     "execution_count": 8,
     "metadata": {},
     "output_type": "execute_result"
    }
   ],
   "source": [
    "data.nunique(dropna=False)"
   ]
  },
  {
   "cell_type": "code",
   "execution_count": 9,
   "metadata": {},
   "outputs": [
    {
     "data": {
      "text/plain": [
       "<matplotlib.axes._subplots.AxesSubplot at 0x7f9c1c6e7b10>"
      ]
     },
     "execution_count": 9,
     "metadata": {},
     "output_type": "execute_result"
    },
    {
     "data": {
      "image/png": "[encoded data removed]",
      "text/plain": [
       "<Figure size 360x360 with 2 Axes>"
      ]
     },
     "metadata": {
      "needs_background": "light"
     },
     "output_type": "display_data"
    }
   ],
   "source": [
    "\"\"\"Посмотрим на пропуски в данных\"\"\"\n",
    "plt.figure(figsize = (5,5))\n",
    "sns.heatmap(data = data.isnull())"
   ]
  },
  {
   "cell_type": "code",
   "execution_count": 10,
   "metadata": {},
   "outputs": [
    {
     "name": "stdout",
     "output_type": "stream",
     "text": [
      "[['Lunch Break', 'Good to Quick Bite'], ['09/07/2017', '09/02/2017']] <class 'str'>\n",
      "['French', 'Cafe', 'Fast Food'] <class 'str'>\n"
     ]
    }
   ],
   "source": [
    "print(data.Reviews[5], type(data.Reviews[5]))\n",
    "print(data['Cuisine Style'][5], type(data['Cuisine Style'][5]))\n",
    "#данные грязные, например ревью и типы кухни спарсили списком, но по формату данные строковые"
   ]
  },
  {
   "cell_type": "markdown",
   "execution_count": null,
   "metadata": {},
   "source": [
    "# DATA CLEANING AND PREPARATION"
   ]
  },
  {
   "cell_type": "code",
   "execution_count": 11,
   "metadata": {},
   "outputs": [],
   "source": [
    "\"\"\"Заполним пустые значения количества ревью нулями, но создадим отдельный признак, говорящий о пустом значении ревью.\"\"\"\n",
    "data['rev_isna'] = pd.isna(data['Number of Reviews']).astype('uint8')\n",
    "data['Number of Reviews'].fillna(0, inplace=True)"
   ]
  },
  {
   "cell_type": "code",
   "execution_count": 12,
   "metadata": {},
   "outputs": [
    {
     "data": {
      "text/plain": [
       "Restaurant_id        13094\n",
       "City                    31\n",
       "Cuisine Style        10732\n",
       "Ranking              12975\n",
       "Price Range              4\n",
       "Number of Reviews     1574\n",
       "Reviews              41858\n",
       "URL_TA               49963\n",
       "ID_TA                49963\n",
       "sample                   2\n",
       "Rating                  10\n",
       "rev_isna                 2\n",
       "dtype: int64"
      ]
     },
     "execution_count": 12,
     "metadata": {},
     "output_type": "execute_result"
    }
   ],
   "source": [
    "\"\"\"Ещё раз посмотрим на признаки\"\"\"\n",
    "data.nunique(dropna = False)"
   ]
  },
  {
   "cell_type": "markdown",
   "execution_count": null,
   "metadata": {},
   "source": [
    "#### Обработаем значения City\n",
    "Признак - город можно разбить на dummy переменные, а так же перевести в число ресторанов в городе и в дальнейшем использовать это как признак, или нормировать Ranking относительно количества городов и использовать составной."
   ]
  },
  {
   "cell_type": "code",
   "execution_count": 13,
   "metadata": {},
   "outputs": [
    {
     "data": {
      "text/html": [
       "<div>\n",
       "<style scoped>\n",
       "    .dataframe tbody tr th:only-of-type {\n",
       "        vertical-align: middle;\n",
       "    }\n",
       "\n",
       "    .dataframe tbody tr th {\n",
       "        vertical-align: top;\n",
       "    }\n",
       "\n",
       "    .dataframe thead th {\n",
       "        text-align: right;\n",
       "    }\n",
       "</style>\n",
       "<table border=\"1\" class=\"dataframe\">\n",
       "  <thead>\n",
       "    <tr style=\"text-align: right;\">\n",
       "      <th></th>\n",
       "      <th>Restaurant_id</th>\n",
       "      <th>City</th>\n",
       "      <th>Cuisine Style</th>\n",
       "      <th>Ranking</th>\n",
       "      <th>Price Range</th>\n",
       "      <th>Number of Reviews</th>\n",
       "      <th>Reviews</th>\n",
       "      <th>URL_TA</th>\n",
       "      <th>ID_TA</th>\n",
       "      <th>sample</th>\n",
       "      <th>Rating</th>\n",
       "      <th>rev_isna</th>\n",
       "      <th>nCity</th>\n",
       "    </tr>\n",
       "  </thead>\n",
       "  <tbody>\n",
       "    <tr>\n",
       "      <th>45043</th>\n",
       "      <td>id_1381</td>\n",
       "      <td>Prague</td>\n",
       "      <td>['Thai', 'Vietnamese']</td>\n",
       "      <td>1382.0</td>\n",
       "      <td>$</td>\n",
       "      <td>7.0</td>\n",
       "      <td>[['Best asian food in town!', 'Finally tried i...</td>\n",
       "      <td>/Restaurant_Review-g274707-d12248558-Reviews-L...</td>\n",
       "      <td>d12248558</td>\n",
       "      <td>1</td>\n",
       "      <td>4.5</td>\n",
       "      <td>0</td>\n",
       "      <td>1816</td>\n",
       "    </tr>\n",
       "    <tr>\n",
       "      <th>29388</th>\n",
       "      <td>id_4331</td>\n",
       "      <td>Madrid</td>\n",
       "      <td>['American', 'Spanish', 'Asian']</td>\n",
       "      <td>4333.0</td>\n",
       "      <td>NaN</td>\n",
       "      <td>61.0</td>\n",
       "      <td>[[], []]</td>\n",
       "      <td>/Restaurant_Review-g187514-d7809594-Reviews-La...</td>\n",
       "      <td>d7809594</td>\n",
       "      <td>1</td>\n",
       "      <td>3.5</td>\n",
       "      <td>0</td>\n",
       "      <td>3813</td>\n",
       "    </tr>\n",
       "    <tr>\n",
       "      <th>20147</th>\n",
       "      <td>id_627</td>\n",
       "      <td>Vienna</td>\n",
       "      <td>['Italian', 'Pizza', 'Mediterranean', 'Europea...</td>\n",
       "      <td>628.0</td>\n",
       "      <td>$$ - $$$</td>\n",
       "      <td>91.0</td>\n",
       "      <td>[['Tasty big pizza!', 'Really tasty pizza'], [...</td>\n",
       "      <td>/Restaurant_Review-g190454-d10386740-Reviews-R...</td>\n",
       "      <td>d10386740</td>\n",
       "      <td>1</td>\n",
       "      <td>4.0</td>\n",
       "      <td>0</td>\n",
       "      <td>1443</td>\n",
       "    </tr>\n",
       "    <tr>\n",
       "      <th>12281</th>\n",
       "      <td>id_10570</td>\n",
       "      <td>Paris</td>\n",
       "      <td>['French', 'Bar', 'European']</td>\n",
       "      <td>10572.0</td>\n",
       "      <td>$$ - $$$</td>\n",
       "      <td>71.0</td>\n",
       "      <td>[['Good Neighborhood Venue - Stick to the Bas....</td>\n",
       "      <td>/Restaurant_Review-g187147-d3484940-Reviews-Le...</td>\n",
       "      <td>d3484940</td>\n",
       "      <td>1</td>\n",
       "      <td>3.0</td>\n",
       "      <td>0</td>\n",
       "      <td>6108</td>\n",
       "    </tr>\n",
       "    <tr>\n",
       "      <th>24471</th>\n",
       "      <td>id_7679</td>\n",
       "      <td>Madrid</td>\n",
       "      <td>NaN</td>\n",
       "      <td>7686.0</td>\n",
       "      <td>NaN</td>\n",
       "      <td>44.0</td>\n",
       "      <td>[['Long queue', 'Rubbish Queue Organisation'],...</td>\n",
       "      <td>/Restaurant_Review-g187514-d1022048-Reviews-Te...</td>\n",
       "      <td>d1022048</td>\n",
       "      <td>1</td>\n",
       "      <td>3.0</td>\n",
       "      <td>0</td>\n",
       "      <td>3813</td>\n",
       "    </tr>\n",
       "  </tbody>\n",
       "</table>\n",
       "</div>"
      ],
      "text/plain": [
       "      Restaurant_id    City  \\\n",
       "45043       id_1381  Prague   \n",
       "29388       id_4331  Madrid   \n",
       "20147        id_627  Vienna   \n",
       "12281      id_10570   Paris   \n",
       "24471       id_7679  Madrid   \n",
       "\n",
       "                                           Cuisine Style  Ranking Price Range  \\\n",
       "45043                             ['Thai', 'Vietnamese']   1382.0           $   \n",
       "29388                   ['American', 'Spanish', 'Asian']   4333.0         NaN   \n",
       "20147  ['Italian', 'Pizza', 'Mediterranean', 'Europea...    628.0    $$ - $$$   \n",
       "12281                      ['French', 'Bar', 'European']  10572.0    $$ - $$$   \n",
       "24471                                                NaN   7686.0         NaN   \n",
       "\n",
       "       Number of Reviews                                            Reviews  \\\n",
       "45043                7.0  [['Best asian food in town!', 'Finally tried i...   \n",
       "29388               61.0                                           [[], []]   \n",
       "20147               91.0  [['Tasty big pizza!', 'Really tasty pizza'], [...   \n",
       "12281               71.0  [['Good Neighborhood Venue - Stick to the Bas....   \n",
       "24471               44.0  [['Long queue', 'Rubbish Queue Organisation'],...   \n",
       "\n",
       "                                                  URL_TA      ID_TA  sample  \\\n",
       "45043  /Restaurant_Review-g274707-d12248558-Reviews-L...  d12248558       1   \n",
       "29388  /Restaurant_Review-g187514-d7809594-Reviews-La...   d7809594       1   \n",
       "20147  /Restaurant_Review-g190454-d10386740-Reviews-R...  d10386740       1   \n",
       "12281  /Restaurant_Review-g187147-d3484940-Reviews-Le...   d3484940       1   \n",
       "24471  /Restaurant_Review-g187514-d1022048-Reviews-Te...   d1022048       1   \n",
       "\n",
       "       Rating  rev_isna  nCity  \n",
       "45043     4.5         0   1816  \n",
       "29388     3.5         0   3813  \n",
       "20147     4.0         0   1443  \n",
       "12281     3.0         0   6108  \n",
       "24471     3.0         0   3813  "
      ]
     },
     "execution_count": 13,
     "metadata": {},
     "output_type": "execute_result"
    }
   ],
   "source": [
    "\"\"\"Создадим новый признак - количество заведений, представленных в датасете в городе\"\"\"\n",
    "cities = data.City.value_counts()\n",
    "data['nCity'] = data.apply(lambda x: cities[x.City], axis = 1)\n",
    "\n",
    "data.sample(5)"
   ]
  },
  {
   "cell_type": "code",
   "execution_count": 14,
   "metadata": {},
   "outputs": [],
   "source": [
    "data['dCity'] = data['City']\n",
    "data = pd.get_dummies(data, columns=[ 'dCity'])"
   ]
  },
  {
   "cell_type": "markdown",
   "execution_count": null,
   "metadata": {},
   "source": [
    "#### Обработаем значения Price Range\n",
    "Они могут быть расположены в порядке возрастания или убывания, значит, строго говоря, не являются категориальными и могут быть заменены на числа 1,2,3"
   ]
  },
  {
   "cell_type": "code",
   "execution_count": 15,
   "metadata": {},
   "outputs": [
    {
     "data": {
      "text/plain": [
       "$$ - $$$    23041\n",
       "$            7816\n",
       "$$$$         1782\n",
       "Name: Price Range, dtype: int64"
      ]
     },
     "execution_count": 15,
     "metadata": {},
     "output_type": "execute_result"
    }
   ],
   "source": [
    "data['Price Range'].value_counts()"
   ]
  },
  {
   "cell_type": "code",
   "execution_count": 16,
   "metadata": {},
   "outputs": [],
   "source": [
    "data['price_isna'] = pd.isna(data['Price Range']).astype('uint8') #создадим признак отсутствия ценового диапазона\n",
    "data['Price Range'] = data.apply(lambda x: x['Price Range'].replace('$$ - $$$', '2').replace('$$$$', '3').replace('$', '1')\n",
    "                                 if type(x['Price Range']) == str else 0,axis = 1)\n",
    "data['Price Range'] = data.apply(lambda x: float(x['Price Range']), axis = 1)"
   ]
  },
  {
   "cell_type": "code",
   "execution_count": 17,
   "metadata": {},
   "outputs": [
    {
     "data": {
      "text/html": [
       "<div>\n",
       "<style scoped>\n",
       "    .dataframe tbody tr th:only-of-type {\n",
       "        vertical-align: middle;\n",
       "    }\n",
       "\n",
       "    .dataframe tbody tr th {\n",
       "        vertical-align: top;\n",
       "    }\n",
       "\n",
       "    .dataframe thead th {\n",
       "        text-align: right;\n",
       "    }\n",
       "</style>\n",
       "<table border=\"1\" class=\"dataframe\">\n",
       "  <thead>\n",
       "    <tr style=\"text-align: right;\">\n",
       "      <th></th>\n",
       "      <th>Restaurant_id</th>\n",
       "      <th>City</th>\n",
       "      <th>Cuisine Style</th>\n",
       "      <th>Ranking</th>\n",
       "      <th>Price Range</th>\n",
       "      <th>Number of Reviews</th>\n",
       "      <th>Reviews</th>\n",
       "      <th>URL_TA</th>\n",
       "      <th>ID_TA</th>\n",
       "      <th>sample</th>\n",
       "      <th>...</th>\n",
       "      <th>dCity_Oporto</th>\n",
       "      <th>dCity_Oslo</th>\n",
       "      <th>dCity_Paris</th>\n",
       "      <th>dCity_Prague</th>\n",
       "      <th>dCity_Rome</th>\n",
       "      <th>dCity_Stockholm</th>\n",
       "      <th>dCity_Vienna</th>\n",
       "      <th>dCity_Warsaw</th>\n",
       "      <th>dCity_Zurich</th>\n",
       "      <th>price_isna</th>\n",
       "    </tr>\n",
       "  </thead>\n",
       "  <tbody>\n",
       "    <tr>\n",
       "      <th>39876</th>\n",
       "      <td>id_3489</td>\n",
       "      <td>London</td>\n",
       "      <td>['Bar', 'European', 'British', 'Vegetarian Fri...</td>\n",
       "      <td>3496.0</td>\n",
       "      <td>2.0</td>\n",
       "      <td>861.0</td>\n",
       "      <td>[['Good mmmm may be okay', 'Christmas Party'],...</td>\n",
       "      <td>/Restaurant_Review-g186338-d2482431-Reviews-Br...</td>\n",
       "      <td>d2482431</td>\n",
       "      <td>1</td>\n",
       "      <td>...</td>\n",
       "      <td>0</td>\n",
       "      <td>0</td>\n",
       "      <td>0</td>\n",
       "      <td>0</td>\n",
       "      <td>0</td>\n",
       "      <td>0</td>\n",
       "      <td>0</td>\n",
       "      <td>0</td>\n",
       "      <td>0</td>\n",
       "      <td>0</td>\n",
       "    </tr>\n",
       "    <tr>\n",
       "      <th>47144</th>\n",
       "      <td>id_5374</td>\n",
       "      <td>Rome</td>\n",
       "      <td>NaN</td>\n",
       "      <td>5376.0</td>\n",
       "      <td>0.0</td>\n",
       "      <td>35.0</td>\n",
       "      <td>[['Excellent place to chill', 'Cool bar in the...</td>\n",
       "      <td>/Restaurant_Review-g187791-d4794288-Reviews-Li...</td>\n",
       "      <td>d4794288</td>\n",
       "      <td>1</td>\n",
       "      <td>...</td>\n",
       "      <td>0</td>\n",
       "      <td>0</td>\n",
       "      <td>0</td>\n",
       "      <td>0</td>\n",
       "      <td>1</td>\n",
       "      <td>0</td>\n",
       "      <td>0</td>\n",
       "      <td>0</td>\n",
       "      <td>0</td>\n",
       "      <td>1</td>\n",
       "    </tr>\n",
       "    <tr>\n",
       "      <th>35359</th>\n",
       "      <td>id_2042</td>\n",
       "      <td>Prague</td>\n",
       "      <td>['Asian', 'Thai', 'Vietnamese']</td>\n",
       "      <td>2045.0</td>\n",
       "      <td>0.0</td>\n",
       "      <td>2.0</td>\n",
       "      <td>[['Great fresh food', 'My favourite vietnamese...</td>\n",
       "      <td>/Restaurant_Review-g274707-d8618237-Reviews-Vi...</td>\n",
       "      <td>d8618237</td>\n",
       "      <td>1</td>\n",
       "      <td>...</td>\n",
       "      <td>0</td>\n",
       "      <td>0</td>\n",
       "      <td>0</td>\n",
       "      <td>1</td>\n",
       "      <td>0</td>\n",
       "      <td>0</td>\n",
       "      <td>0</td>\n",
       "      <td>0</td>\n",
       "      <td>0</td>\n",
       "      <td>1</td>\n",
       "    </tr>\n",
       "    <tr>\n",
       "      <th>49062</th>\n",
       "      <td>id_297</td>\n",
       "      <td>Barcelona</td>\n",
       "      <td>['American', 'Bar', 'Vegetarian Friendly', 'Ve...</td>\n",
       "      <td>298.0</td>\n",
       "      <td>2.0</td>\n",
       "      <td>691.0</td>\n",
       "      <td>[['A sportive evening with beer...', 'Not at a...</td>\n",
       "      <td>/Restaurant_Review-g187497-d11622184-Reviews-N...</td>\n",
       "      <td>d11622184</td>\n",
       "      <td>1</td>\n",
       "      <td>...</td>\n",
       "      <td>0</td>\n",
       "      <td>0</td>\n",
       "      <td>0</td>\n",
       "      <td>0</td>\n",
       "      <td>0</td>\n",
       "      <td>0</td>\n",
       "      <td>0</td>\n",
       "      <td>0</td>\n",
       "      <td>0</td>\n",
       "      <td>0</td>\n",
       "    </tr>\n",
       "    <tr>\n",
       "      <th>43123</th>\n",
       "      <td>id_6185</td>\n",
       "      <td>Madrid</td>\n",
       "      <td>['Mediterranean', 'Bar', 'Spanish', 'European']</td>\n",
       "      <td>6188.0</td>\n",
       "      <td>2.0</td>\n",
       "      <td>119.0</td>\n",
       "      <td>[['Scenic view with tasty plates 🍴', 'Be caref...</td>\n",
       "      <td>/Restaurant_Review-g187514-d7058072-Reviews-Le...</td>\n",
       "      <td>d7058072</td>\n",
       "      <td>1</td>\n",
       "      <td>...</td>\n",
       "      <td>0</td>\n",
       "      <td>0</td>\n",
       "      <td>0</td>\n",
       "      <td>0</td>\n",
       "      <td>0</td>\n",
       "      <td>0</td>\n",
       "      <td>0</td>\n",
       "      <td>0</td>\n",
       "      <td>0</td>\n",
       "      <td>0</td>\n",
       "    </tr>\n",
       "  </tbody>\n",
       "</table>\n",
       "<p>5 rows × 45 columns</p>\n",
       "</div>"
      ],
      "text/plain": [
       "      Restaurant_id       City  \\\n",
       "39876       id_3489     London   \n",
       "47144       id_5374       Rome   \n",
       "35359       id_2042     Prague   \n",
       "49062        id_297  Barcelona   \n",
       "43123       id_6185     Madrid   \n",
       "\n",
       "                                           Cuisine Style  Ranking  \\\n",
       "39876  ['Bar', 'European', 'British', 'Vegetarian Fri...   3496.0   \n",
       "47144                                                NaN   5376.0   \n",
       "35359                    ['Asian', 'Thai', 'Vietnamese']   2045.0   \n",
       "49062  ['American', 'Bar', 'Vegetarian Friendly', 'Ve...    298.0   \n",
       "43123    ['Mediterranean', 'Bar', 'Spanish', 'European']   6188.0   \n",
       "\n",
       "       Price Range  Number of Reviews  \\\n",
       "39876          2.0              861.0   \n",
       "47144          0.0               35.0   \n",
       "35359          0.0                2.0   \n",
       "49062          2.0              691.0   \n",
       "43123          2.0              119.0   \n",
       "\n",
       "                                                 Reviews  \\\n",
       "39876  [['Good mmmm may be okay', 'Christmas Party'],...   \n",
       "47144  [['Excellent place to chill', 'Cool bar in the...   \n",
       "35359  [['Great fresh food', 'My favourite vietnamese...   \n",
       "49062  [['A sportive evening with beer...', 'Not at a...   \n",
       "43123  [['Scenic view with tasty plates 🍴', 'Be caref...   \n",
       "\n",
       "                                                  URL_TA      ID_TA  sample  \\\n",
       "39876  /Restaurant_Review-g186338-d2482431-Reviews-Br...   d2482431       1   \n",
       "47144  /Restaurant_Review-g187791-d4794288-Reviews-Li...   d4794288       1   \n",
       "35359  /Restaurant_Review-g274707-d8618237-Reviews-Vi...   d8618237       1   \n",
       "49062  /Restaurant_Review-g187497-d11622184-Reviews-N...  d11622184       1   \n",
       "43123  /Restaurant_Review-g187514-d7058072-Reviews-Le...   d7058072       1   \n",
       "\n",
       "       ...  dCity_Oporto  dCity_Oslo  dCity_Paris  dCity_Prague  dCity_Rome  \\\n",
       "39876  ...             0           0            0             0           0   \n",
       "47144  ...             0           0            0             0           1   \n",
       "35359  ...             0           0            0             1           0   \n",
       "49062  ...             0           0            0             0           0   \n",
       "43123  ...             0           0            0             0           0   \n",
       "\n",
       "       dCity_Stockholm  dCity_Vienna  dCity_Warsaw  dCity_Zurich  price_isna  \n",
       "39876                0             0             0             0           0  \n",
       "47144                0             0             0             0           1  \n",
       "35359                0             0             0             0           1  \n",
       "49062                0             0             0             0           0  \n",
       "43123                0             0             0             0           0  \n",
       "\n",
       "[5 rows x 45 columns]"
      ]
     },
     "execution_count": 17,
     "metadata": {},
     "output_type": "execute_result"
    }
   ],
   "source": [
    "data.sample(5)"
   ]
  },
  {
   "cell_type": "code",
   "execution_count": 18,
   "metadata": {},
   "outputs": [],
   "source": [
    "\"\"\"Определим несколько полезных функций для работы с датами публикации ревью\"\"\"\n",
    "def d_time (cell): #функция которая возвращает разницу по времени в днях между двумя последними ревью\n",
    "    try:\n",
    "        x = cell.split(',')[2:]\n",
    "        x = pd.Series(x).apply(lambda x: x.replace('[','').replace(']','').replace(\"'\",'').replace(' ',''))\n",
    "        x = x.apply(lambda x: datetime.strptime(x,'%d/%m/%Y'))\n",
    "        delta_x=x[1]-x[0]\n",
    "        return abs(delta_x.days)\n",
    "    except:\n",
    "        return -1 # чтобы значения NaN не мешали и выделялись кардинально \n",
    "def fresh_date (cell): #Функция, которая вычисляет дату самого свежего отображенного отзыва для каждого ресторана\"\"\"\n",
    "    try:\n",
    "        x = cell.split(',')[2:]\n",
    "        x = pd.Series(x).apply(lambda x: x.replace('[','').replace(']','').replace(\"'\",'').replace(' ',''))\n",
    "        x = x.apply(lambda x: datetime.strptime(x,'%d/%m/%Y'))\n",
    "        fresh_x = max(x[0],x[1])\n",
    "        return fresh_x\n",
    "    except:\n",
    "        return None"
   ]
  },
  {
   "cell_type": "code",
   "execution_count": 19,
   "metadata": {},
   "outputs": [
    {
     "name": "stderr",
     "output_type": "stream",
     "text": [
      "/opt/conda/lib/python3.7/site-packages/ipykernel_launcher.py:14: DeprecationWarning: The default dtype for empty Series will be 'object' instead of 'float64' in a future version. Specify a dtype explicitly to silence this warning.\n",
      "  \n"
     ]
    }
   ],
   "source": [
    "\"\"\"Создадим синтетический признак на основании даты самого свежего отзыва о ресторане\"\"\"\n",
    "data['rev_date'] = data.apply(lambda x: fresh_date(x['Reviews']), axis = 1)\n",
    "data['rev_date'] = data['rev_date'].apply(lambda x: (x - datetime.now()).days)\n",
    "data['rev_date'].fillna(data['rev_date'].mean(), inplace = True)\n",
    "data['rev_date'] = (data['rev_date'] - data['rev_date'].mean())\n",
    "data['rev_date'] = data['rev_date'] / np.linalg.norm(data['rev_date'])"
   ]
  },
  {
   "cell_type": "markdown",
   "execution_count": null,
   "metadata": {},
   "source": [
    "#### Обработаем признак Cuisine Style и разберём его на Dummy-переменные"
   ]
  },
  {
   "cell_type": "code",
   "execution_count": 20,
   "metadata": {},
   "outputs": [],
   "source": [
    "\"\"\"Создадим признак для ресторанов где тип кухни не упомянут\"\"\"\n",
    "data['cuisine_isna'] = pd.isna(data['Cuisine Style']).astype('uint8')"
   ]
  },
  {
   "cell_type": "code",
   "execution_count": 21,
   "metadata": {},
   "outputs": [],
   "source": [
    "\"\"\"Очистим строки от всего лишнего, включая пробелы и оставим только разделители-запятые\"\"\"\n",
    "data['Cuisine Style'] = data.apply(lambda x: x['Cuisine Style'].replace('[','').replace(']','').replace(\"'\",'').replace(' ','') \n",
    "                                   if type(x['Cuisine Style']) != float else x['Cuisine Style'], axis = 1)\n",
    "\n",
    "\"\"\"Разберем признак который представлен строкой, на дамми-переменные по разделителю\"\"\"\n",
    "styles = data['Cuisine Style'].str.get_dummies(',').sum().sort_values(ascending = False)\n",
    "styles_drop = [x for x in styles.index if styles[x] < 1000] # изначально ограничимся только признаками которые имеют больше 1000 ресторанов\n",
    "\n",
    "\"\"\"Присоединим получившийся датафрейм новых признаков \"\"\"\n",
    "data = data.join(data['Cuisine Style'].str.get_dummies(',').drop(styles_drop, axis = 1), how = 'left')\n"
   ]
  },
  {
   "cell_type": "markdown",
   "execution_count": null,
   "metadata": {},
   "source": [
    "Напишем функцию-филлер, которая дозаполнит пропуски в признаках Cuisine Styles на основании Review."
   ]
  },
  {
   "cell_type": "code",
   "execution_count": 22,
   "metadata": {},
   "outputs": [
    {
     "data": {
      "text/plain": [
       "0    35979\n",
       "1    14021\n",
       "Name: VegetarianFriendly, dtype: int64"
      ]
     },
     "execution_count": 22,
     "metadata": {},
     "output_type": "execute_result"
    }
   ],
   "source": [
    "data.VegetarianFriendly.value_counts() #для проверки посчитаем количество вегетарианских заведений до обработки"
   ]
  },
  {
   "cell_type": "code",
   "execution_count": 23,
   "metadata": {},
   "outputs": [],
   "source": [
    "pattern = re.compile('[A-Z][a-z]*') #регулярное выражение которое вытащит из признаков теги\n",
    "def fill_styles (row):\n",
    "    for style in styles.drop(styles_drop).index:\n",
    "        x = pattern.match(style)[0]\n",
    "        try:\n",
    "            if x.lower() in row.Reviews.lower(): #ищем теги в отзывах\n",
    "                row[style] = 1\n",
    "        except:\n",
    "            continue\n",
    "    return row"
   ]
  },
  {
   "cell_type": "code",
   "execution_count": 24,
   "metadata": {},
   "outputs": [],
   "source": [
    "data = data.apply(lambda x: fill_styles(x),axis = 1)"
   ]
  },
  {
   "cell_type": "code",
   "execution_count": 25,
   "metadata": {},
   "outputs": [
    {
     "data": {
      "text/plain": [
       "0    35918\n",
       "1    14082\n",
       "Name: VegetarianFriendly, dtype: int64"
      ]
     },
     "execution_count": 25,
     "metadata": {},
     "output_type": "execute_result"
    }
   ],
   "source": [
    "data.VegetarianFriendly.value_counts() # и после"
   ]
  },
  {
   "cell_type": "markdown",
   "execution_count": null,
   "metadata": {},
   "source": [
    "# EDA"
   ]
  },
  {
   "cell_type": "code",
   "execution_count": 26,
   "metadata": {},
   "outputs": [],
   "source": [
    "df_train = data[data['sample'] == 1]"
   ]
  },
  {
   "cell_type": "code",
   "execution_count": 27,
   "metadata": {},
   "outputs": [
    {
     "data": {
      "text/plain": [
       "<matplotlib.axes._subplots.AxesSubplot at 0x7f9c1ab34f90>"
      ]
     },
     "execution_count": 27,
     "metadata": {},
     "output_type": "execute_result"
    },
    {
     "data": {
      "image/png": "[encoded data removed]",
      "text/plain": [
       "<Figure size 1440x720 with 2 Axes>"
      ]
     },
     "metadata": {
      "needs_background": "light"
     },
     "output_type": "display_data"
    }
   ],
   "source": [
    "\"\"\"Распределение признака ranking\"\"\"\n",
    "fig, axes = plt.subplots(1, 2, figsize=(20, 10));\n",
    "df_train['Ranking'].hist(bins=100, ax=axes[0])\n",
    "df_train.boxplot(column='Ranking', ax=axes[1])"
   ]
  },
  {
   "cell_type": "code",
   "execution_count": 28,
   "metadata": {},
   "outputs": [
    {
     "data": {
      "image/png": "[encoded data removed]",
      "text/plain": [
       "<Figure size 1440x720 with 2 Axes>"
      ]
     },
     "metadata": {
      "needs_background": "light"
     },
     "output_type": "display_data"
    }
   ],
   "source": [
    "\"Посмотрим на распределение признака Ranking по городам (слева) и типам кухонь (справа)\"\n",
    "fig, axes = plt.subplots(1, 2, figsize=(20, 10));\n",
    "for x in (df_train['City'].value_counts())[0:10].index:\n",
    "    df_train['Ranking'][df_train['City'] == x].hist(bins=100, ax = axes[0])\n",
    "for x in styles[0:10].index:\n",
    "    df_train[df_train[x] == 1]['Ranking'].hist(bins = 100, ax = axes[1])\n",
    "plt.show()"
   ]
  },
  {
   "cell_type": "markdown",
   "execution_count": null,
   "metadata": {},
   "source": [
    "Мы видим,что по городам признак ranking распределен нормально, а по видам кухонь экспоненциально."
   ]
  },
  {
   "cell_type": "markdown",
   "execution_count": null,
   "metadata": {},
   "source": [
    "#### Посмотрим на матрицу корелляции"
   ]
  },
  {
   "cell_type": "code",
   "execution_count": 29,
   "metadata": {},
   "outputs": [
    {
     "data": {
      "text/plain": [
       "<matplotlib.axes._subplots.AxesSubplot at 0x7f9c1b8b8e90>"
      ]
     },
     "execution_count": 29,
     "metadata": {},
     "output_type": "execute_result"
    },
    {
     "data": {
      "image/png": "[encoded data removed]",
      "text/plain": [
       "<Figure size 2160x1800 with 2 Axes>"
      ]
     },
     "metadata": {
      "needs_background": "light"
     },
     "output_type": "display_data"
    }
   ],
   "source": [
    "c_mat = data.drop(['sample'], axis=1).corr()\n",
    "plt.rcParams['figure.figsize'] = (30,25)\n",
    "sns.heatmap(c_mat)"
   ]
  },
  {
   "cell_type": "code",
   "execution_count": 30,
   "metadata": {},
   "outputs": [
    {
     "name": "stdout",
     "output_type": "stream",
     "text": [
      "Ранг матрицы - 64, det(c_mat) = -6.306900091191525e-30\n"
     ]
    },
    {
     "data": {
      "text/plain": [
       "(64, 64)"
      ]
     },
     "execution_count": 30,
     "metadata": {},
     "output_type": "execute_result"
    }
   ],
   "source": [
    "print('Ранг матрицы - {}, det(c_mat) = {}'.format(np.linalg.matrix_rank(c_mat), np.linalg.det(c_mat)))\n",
    "c_mat.shape"
   ]
  },
  {
   "cell_type": "markdown",
   "execution_count": null,
   "metadata": {},
   "source": [
    "Ранг матрицы корелляций максимальный, но определитель близок к нулю, матрица плохо обусловлена, признаки мультиколлинеарны.\n",
    "Мы видим, что сильно скореллированы признаки Ranking и nCity, price_isna и cuisine_isna, Bar и Pub, Japanese и Sushi\n",
    "Можем их попарно объединить, первую пару поделить друг на друга, а остальные логически сложить (ИЛИ)\n",
    "Price Range и price_isna закономерно имеют высокую обратную корелляцию, что очевидно, так как один образован из другого."
   ]
  },
  {
   "cell_type": "code",
   "execution_count": 31,
   "metadata": {},
   "outputs": [],
   "source": [
    "\"\"\"Нормализуем признак Ranking относительно количества заведений в городе\"\"\"\n",
    "data['nRanking'] = data.Ranking / data.nCity\n",
    "data.drop(['Ranking','nCity'], axis = 1, inplace = True)"
   ]
  },
  {
   "cell_type": "code",
   "execution_count": 32,
   "metadata": {},
   "outputs": [],
   "source": [
    "\"\"\"Объединим бары и пабы, японскую кухню и суши\"\"\"\n",
    "data['Bar_Pub'] = data.Bar | data.Pub\n",
    "data.drop(['Bar','Pub'], axis = 1, inplace = True)\n",
    "\n",
    "data['Japan_Sushi'] = data.Japanese | data.Sushi\n",
    "data.drop(['Japanese','Sushi'], axis = 1, inplace = True)"
   ]
  },
  {
   "cell_type": "code",
   "execution_count": 33,
   "metadata": {},
   "outputs": [],
   "source": [
    "\"\"\"Объединим признаки об отсутствии ценового диапазона и кухни в один признак data_missing\"\"\"\n",
    "data['data_missing'] = data.cuisine_isna | data.price_isna\n",
    "data.drop(['cuisine_isna','price_isna'], axis = 1, inplace = True)"
   ]
  },
  {
   "cell_type": "code",
   "execution_count": 34,
   "metadata": {},
   "outputs": [
    {
     "name": "stdout",
     "output_type": "stream",
     "text": [
      "-0.9027056933753346\n"
     ]
    }
   ],
   "source": [
    "#ещё раз взглянув на матрицу корелляции, можно увидеть, что признак data_missing высоко обратно скореллирован с Price Range (-0.9)\n",
    "c_mat = data.drop(['sample'], axis=1).corr()\n",
    "print(c_mat['Price Range'].data_missing)\n",
    "#можно избавиться от data_missing\n",
    "data.drop(['data_missing'], axis = 1, inplace = True)"
   ]
  },
  {
   "cell_type": "code",
   "execution_count": 35,
   "metadata": {},
   "outputs": [
    {
     "name": "stdout",
     "output_type": "stream",
     "text": [
      "Ранг матрицы - 59, det(c_mat) = 4.632079340017886e-16\n"
     ]
    },
    {
     "data": {
      "text/plain": [
       "(59, 59)"
      ]
     },
     "execution_count": 35,
     "metadata": {},
     "output_type": "execute_result"
    }
   ],
   "source": [
    "c_mat = data.drop(['sample'], axis=1).corr() #проверим насколько поменялось значение определителя матрицы\n",
    "print('Ранг матрицы - {}, det(c_mat) = {}'.format(np.linalg.matrix_rank(c_mat), np.linalg.det(c_mat)))\n",
    "c_mat.shape"
   ]
  },
  {
   "cell_type": "markdown",
   "execution_count": null,
   "metadata": {},
   "source": [
    "# Data Preprocessing\n",
    "Завернем предобработку в одну функцию"
   ]
  },
  {
   "cell_type": "code",
   "execution_count": 36,
   "metadata": {},
   "outputs": [
    {
     "name": "stdout",
     "output_type": "stream",
     "text": [
      "<class 'pandas.core.frame.DataFrame'>\n",
      "RangeIndex: 50000 entries, 0 to 49999\n",
      "Data columns (total 11 columns):\n",
      " #   Column             Non-Null Count  Dtype  \n",
      "---  ------             --------------  -----  \n",
      " 0   Restaurant_id      50000 non-null  object \n",
      " 1   City               50000 non-null  object \n",
      " 2   Cuisine Style      38410 non-null  object \n",
      " 3   Ranking            50000 non-null  float64\n",
      " 4   Price Range        32639 non-null  object \n",
      " 5   Number of Reviews  46800 non-null  float64\n",
      " 6   Reviews            49998 non-null  object \n",
      " 7   URL_TA             50000 non-null  object \n",
      " 8   ID_TA              50000 non-null  object \n",
      " 9   sample             50000 non-null  int64  \n",
      " 10  Rating             50000 non-null  float64\n",
      "dtypes: float64(3), int64(1), object(7)\n",
      "memory usage: 4.2+ MB\n"
     ]
    }
   ],
   "source": [
    "#импортируем все заново\n",
    "df_train = pd.read_csv(DATA_DIR+'/main_task.csv')\n",
    "df_test = pd.read_csv(DATA_DIR+'/kaggle_task.csv')\n",
    "df_train['sample'] = 1 # трейн\n",
    "df_test['sample'] = 0 # тест\n",
    "df_test['Rating'] = 0 # таргет\n",
    "\n",
    "data = df_test.append(df_train, sort=False).reset_index(drop=True) # объединяем\n",
    "data.info()"
   ]
  },
  {
   "cell_type": "code",
   "execution_count": 37,
   "metadata": {},
   "outputs": [],
   "source": [
    "def preproc_data(df_input):\n",
    "    '''includes several functions to pre-process the predictor data.'''\n",
    "    \n",
    "    df_output = df_input.copy()\n",
    "    \n",
    "    # ################### 1. Предобработка ############################################################## \n",
    "    # убираем не нужные для модели признаки\n",
    "    df_output.drop(['Restaurant_id','ID_TA','URL_TA'], axis = 1, inplace=True)\n",
    "    \n",
    "    \n",
    "    # ################### 2. NAN ############################################################## \n",
    "    \"\"\"Заполним пустые значения количества ревью нулями, но создадим отдельный признак, говорящий о пустом значении ревью.\"\"\"\n",
    "    df_output['rev_isna'] = pd.isna(df_output['Number of Reviews']).astype('uint8')\n",
    "    df_output['Number of Reviews'].fillna(0, inplace=True)\n",
    "    \n",
    "    \n",
    "    # ################### 3. Encoding ##############################################################\n",
    "    \"\"\"Создадим dummy-признаки на основании городов\"\"\"\n",
    "    df_output['dCity'] = df_output.City\n",
    "    df_output = pd.get_dummies(df_output, columns=['dCity'], dummy_na=True)\n",
    "    \n",
    "    df_output['Price Range'] = df_output.apply(lambda x: x['Price Range'].replace('$$ - $$$', '2').replace('$$$$', '3').replace('$', '1')\n",
    "                                 if type(x['Price Range']) == str else 0,axis = 1)\n",
    "    df_output['Price Range'] = df_output.apply(lambda x: float(x['Price Range']), axis = 1)\n",
    "    \n",
    "    \"\"\"Очистим строку со стилями кухни от лишних символов\"\"\"\n",
    "    df_output['Cuisine Style'] = df_output.apply(lambda x: x['Cuisine Style'].replace('[','').replace(']','').replace(\"'\",'').replace(' ','') \n",
    "                                   if type(x['Cuisine Style']) != float else x['Cuisine Style'], axis = 1)\n",
    "\n",
    "    \"\"\"Разберем признак который представлен строкой, на дамми-переменные по разделителю\"\"\"\n",
    "    styles = df_output['Cuisine Style'].str.get_dummies(',').sum().sort_values(ascending = False)\n",
    "    styles_drop = [x for x in styles.index if styles[x] < 100] # ограничимся только признаками которые имеют больше 100 ресторанов\n",
    "\n",
    "    \"\"\"Присоединим получившийся датафрейм новых признаков \"\"\"\n",
    "    df_output = df_output.join(df_output['Cuisine Style'].str.get_dummies(',').drop(styles_drop, axis = 1), how = 'left')\n",
    "    \n",
    "    \"\"\"Дозаполним получившиеся dummy-признаки на основании ревью\"\"\"\n",
    "    df_output = df_output.apply(lambda x: fill_styles(x),axis = 1)\n",
    "    \n",
    "    \n",
    "    # ################### 4. Feature Engineering ####################################################\n",
    "    \"\"\"Новый признак - количество заведений в городе\"\"\"\n",
    "    cities = df_output.City.value_counts()\n",
    "    df_output['nCity'] = df_output.apply(lambda x: cities[x.City], axis = 1)\n",
    "    \n",
    "    \"\"\"Нормализуем признак Ranking относительно количества заведений в городе\"\"\"\n",
    "    df_output['nRanking'] = df_output.Ranking / df_output.nCity\n",
    "    df_output.drop(['Ranking','nCity'], axis = 1, inplace = True)\n",
    "    \n",
    "    \"\"\"Объединим бары и пабы, японскую кухню и суши\"\"\"\n",
    "    df_output['Bar_Pub'] = df_output.Bar | df_output.Pub\n",
    "    df_output.drop(['Bar','Pub'], axis = 1, inplace = True)\n",
    "\n",
    "    df_output['Japan_Sushi'] = df_output.Japanese | df_output.Sushi\n",
    "    df_output.drop(['Japanese','Sushi'], axis = 1, inplace = True)\n",
    "    \n",
    "    \"\"\"Создадим синтетический признак на основании даты самого свежего отзыва о ресторане\"\"\"\n",
    "    df_output['rev_date'] = df_output.apply(lambda x: fresh_date(x['Reviews']), axis = 1)\n",
    "    df_output['rev_date'] = df_output['rev_date'].apply(lambda x: (x - datetime.now()).days)\n",
    "    df_output['rev_date'].fillna(df_output['rev_date'].mean(), inplace = True)\n",
    "    df_output['rev_date'] = df_output['rev_date'] - df_output['rev_date'].mean()\n",
    "    df_output['rev_date'] = df_output['rev_date'] / np.linalg.norm(df_output['rev_date'])\n",
    "    \n",
    "    \n",
    "    \n",
    "    \n",
    "    # ################### 5. Clean #################################################### \n",
    "    # убираем признаки которые еще не успели обработать, \n",
    "    # модель на признаках с dtypes \"object\" обучаться не будет, просто выберим их и удалим\n",
    "    object_columns = [s for s in df_output.columns if df_output[s].dtypes == 'object']\n",
    "    df_output.drop(object_columns, axis = 1, inplace=True)\n",
    "    \n",
    "    return df_output"
   ]
  },
  {
   "cell_type": "markdown",
   "execution_count": null,
   "metadata": {},
   "source": [
    "# ML"
   ]
  },
  {
   "cell_type": "code",
   "execution_count": 38,
   "metadata": {},
   "outputs": [
    {
     "name": "stderr",
     "output_type": "stream",
     "text": [
      "/opt/conda/lib/python3.7/site-packages/ipykernel_launcher.py:14: DeprecationWarning: The default dtype for empty Series will be 'object' instead of 'float64' in a future version. Specify a dtype explicitly to silence this warning.\n",
      "  \n"
     ]
    },
    {
     "data": {
      "text/html": [
       "<div>\n",
       "<style scoped>\n",
       "    .dataframe tbody tr th:only-of-type {\n",
       "        vertical-align: middle;\n",
       "    }\n",
       "\n",
       "    .dataframe tbody tr th {\n",
       "        vertical-align: top;\n",
       "    }\n",
       "\n",
       "    .dataframe thead th {\n",
       "        text-align: right;\n",
       "    }\n",
       "</style>\n",
       "<table border=\"1\" class=\"dataframe\">\n",
       "  <thead>\n",
       "    <tr style=\"text-align: right;\">\n",
       "      <th></th>\n",
       "      <th>Price Range</th>\n",
       "      <th>Number of Reviews</th>\n",
       "      <th>sample</th>\n",
       "      <th>Rating</th>\n",
       "      <th>rev_isna</th>\n",
       "      <th>dCity_Amsterdam</th>\n",
       "      <th>dCity_Athens</th>\n",
       "      <th>dCity_Barcelona</th>\n",
       "      <th>dCity_Berlin</th>\n",
       "      <th>dCity_Bratislava</th>\n",
       "      <th>...</th>\n",
       "      <th>Thai</th>\n",
       "      <th>Turkish</th>\n",
       "      <th>VeganOptions</th>\n",
       "      <th>VegetarianFriendly</th>\n",
       "      <th>Vietnamese</th>\n",
       "      <th>WineBar</th>\n",
       "      <th>nRanking</th>\n",
       "      <th>Bar_Pub</th>\n",
       "      <th>Japan_Sushi</th>\n",
       "      <th>rev_date</th>\n",
       "    </tr>\n",
       "  </thead>\n",
       "  <tbody>\n",
       "    <tr>\n",
       "      <th>1445</th>\n",
       "      <td>1.0</td>\n",
       "      <td>23.0</td>\n",
       "      <td>0</td>\n",
       "      <td>0.0</td>\n",
       "      <td>0</td>\n",
       "      <td>0</td>\n",
       "      <td>0</td>\n",
       "      <td>1</td>\n",
       "      <td>0</td>\n",
       "      <td>0</td>\n",
       "      <td>...</td>\n",
       "      <td>0</td>\n",
       "      <td>0</td>\n",
       "      <td>0</td>\n",
       "      <td>0</td>\n",
       "      <td>0</td>\n",
       "      <td>0</td>\n",
       "      <td>0.683947</td>\n",
       "      <td>0</td>\n",
       "      <td>0</td>\n",
       "      <td>3.490853e-15</td>\n",
       "    </tr>\n",
       "    <tr>\n",
       "      <th>9817</th>\n",
       "      <td>0.0</td>\n",
       "      <td>7.0</td>\n",
       "      <td>0</td>\n",
       "      <td>0.0</td>\n",
       "      <td>0</td>\n",
       "      <td>0</td>\n",
       "      <td>0</td>\n",
       "      <td>0</td>\n",
       "      <td>0</td>\n",
       "      <td>0</td>\n",
       "      <td>...</td>\n",
       "      <td>0</td>\n",
       "      <td>0</td>\n",
       "      <td>0</td>\n",
       "      <td>0</td>\n",
       "      <td>0</td>\n",
       "      <td>0</td>\n",
       "      <td>2.301411</td>\n",
       "      <td>0</td>\n",
       "      <td>0</td>\n",
       "      <td>3.490853e-15</td>\n",
       "    </tr>\n",
       "    <tr>\n",
       "      <th>15378</th>\n",
       "      <td>0.0</td>\n",
       "      <td>24.0</td>\n",
       "      <td>1</td>\n",
       "      <td>4.5</td>\n",
       "      <td>0</td>\n",
       "      <td>0</td>\n",
       "      <td>0</td>\n",
       "      <td>0</td>\n",
       "      <td>0</td>\n",
       "      <td>0</td>\n",
       "      <td>...</td>\n",
       "      <td>0</td>\n",
       "      <td>0</td>\n",
       "      <td>0</td>\n",
       "      <td>0</td>\n",
       "      <td>0</td>\n",
       "      <td>0</td>\n",
       "      <td>1.842137</td>\n",
       "      <td>0</td>\n",
       "      <td>0</td>\n",
       "      <td>3.490853e-15</td>\n",
       "    </tr>\n",
       "    <tr>\n",
       "      <th>49366</th>\n",
       "      <td>2.0</td>\n",
       "      <td>31.0</td>\n",
       "      <td>1</td>\n",
       "      <td>4.5</td>\n",
       "      <td>0</td>\n",
       "      <td>0</td>\n",
       "      <td>0</td>\n",
       "      <td>0</td>\n",
       "      <td>0</td>\n",
       "      <td>0</td>\n",
       "      <td>...</td>\n",
       "      <td>0</td>\n",
       "      <td>0</td>\n",
       "      <td>0</td>\n",
       "      <td>0</td>\n",
       "      <td>0</td>\n",
       "      <td>0</td>\n",
       "      <td>0.536344</td>\n",
       "      <td>0</td>\n",
       "      <td>0</td>\n",
       "      <td>3.490853e-15</td>\n",
       "    </tr>\n",
       "    <tr>\n",
       "      <th>18829</th>\n",
       "      <td>3.0</td>\n",
       "      <td>848.0</td>\n",
       "      <td>1</td>\n",
       "      <td>4.5</td>\n",
       "      <td>0</td>\n",
       "      <td>0</td>\n",
       "      <td>0</td>\n",
       "      <td>0</td>\n",
       "      <td>0</td>\n",
       "      <td>0</td>\n",
       "      <td>...</td>\n",
       "      <td>0</td>\n",
       "      <td>0</td>\n",
       "      <td>0</td>\n",
       "      <td>1</td>\n",
       "      <td>0</td>\n",
       "      <td>0</td>\n",
       "      <td>0.037983</td>\n",
       "      <td>0</td>\n",
       "      <td>0</td>\n",
       "      <td>3.490853e-15</td>\n",
       "    </tr>\n",
       "    <tr>\n",
       "      <th>33032</th>\n",
       "      <td>2.0</td>\n",
       "      <td>109.0</td>\n",
       "      <td>1</td>\n",
       "      <td>3.5</td>\n",
       "      <td>0</td>\n",
       "      <td>0</td>\n",
       "      <td>0</td>\n",
       "      <td>0</td>\n",
       "      <td>0</td>\n",
       "      <td>0</td>\n",
       "      <td>...</td>\n",
       "      <td>0</td>\n",
       "      <td>0</td>\n",
       "      <td>0</td>\n",
       "      <td>0</td>\n",
       "      <td>0</td>\n",
       "      <td>0</td>\n",
       "      <td>1.074984</td>\n",
       "      <td>1</td>\n",
       "      <td>0</td>\n",
       "      <td>3.490853e-15</td>\n",
       "    </tr>\n",
       "    <tr>\n",
       "      <th>24277</th>\n",
       "      <td>1.0</td>\n",
       "      <td>222.0</td>\n",
       "      <td>1</td>\n",
       "      <td>3.5</td>\n",
       "      <td>0</td>\n",
       "      <td>0</td>\n",
       "      <td>0</td>\n",
       "      <td>0</td>\n",
       "      <td>0</td>\n",
       "      <td>0</td>\n",
       "      <td>...</td>\n",
       "      <td>0</td>\n",
       "      <td>0</td>\n",
       "      <td>0</td>\n",
       "      <td>0</td>\n",
       "      <td>0</td>\n",
       "      <td>0</td>\n",
       "      <td>0.903860</td>\n",
       "      <td>0</td>\n",
       "      <td>0</td>\n",
       "      <td>3.490853e-15</td>\n",
       "    </tr>\n",
       "    <tr>\n",
       "      <th>75</th>\n",
       "      <td>2.0</td>\n",
       "      <td>158.0</td>\n",
       "      <td>0</td>\n",
       "      <td>0.0</td>\n",
       "      <td>0</td>\n",
       "      <td>0</td>\n",
       "      <td>0</td>\n",
       "      <td>0</td>\n",
       "      <td>0</td>\n",
       "      <td>0</td>\n",
       "      <td>...</td>\n",
       "      <td>0</td>\n",
       "      <td>0</td>\n",
       "      <td>0</td>\n",
       "      <td>1</td>\n",
       "      <td>0</td>\n",
       "      <td>0</td>\n",
       "      <td>0.437370</td>\n",
       "      <td>1</td>\n",
       "      <td>0</td>\n",
       "      <td>3.490853e-15</td>\n",
       "    </tr>\n",
       "    <tr>\n",
       "      <th>30040</th>\n",
       "      <td>2.0</td>\n",
       "      <td>208.0</td>\n",
       "      <td>1</td>\n",
       "      <td>4.5</td>\n",
       "      <td>0</td>\n",
       "      <td>0</td>\n",
       "      <td>0</td>\n",
       "      <td>0</td>\n",
       "      <td>0</td>\n",
       "      <td>0</td>\n",
       "      <td>...</td>\n",
       "      <td>0</td>\n",
       "      <td>0</td>\n",
       "      <td>0</td>\n",
       "      <td>1</td>\n",
       "      <td>0</td>\n",
       "      <td>0</td>\n",
       "      <td>0.208134</td>\n",
       "      <td>1</td>\n",
       "      <td>0</td>\n",
       "      <td>3.490853e-15</td>\n",
       "    </tr>\n",
       "    <tr>\n",
       "      <th>8504</th>\n",
       "      <td>3.0</td>\n",
       "      <td>2.0</td>\n",
       "      <td>0</td>\n",
       "      <td>0.0</td>\n",
       "      <td>0</td>\n",
       "      <td>0</td>\n",
       "      <td>0</td>\n",
       "      <td>0</td>\n",
       "      <td>0</td>\n",
       "      <td>0</td>\n",
       "      <td>...</td>\n",
       "      <td>0</td>\n",
       "      <td>0</td>\n",
       "      <td>0</td>\n",
       "      <td>0</td>\n",
       "      <td>0</td>\n",
       "      <td>0</td>\n",
       "      <td>1.566423</td>\n",
       "      <td>0</td>\n",
       "      <td>0</td>\n",
       "      <td>3.490853e-15</td>\n",
       "    </tr>\n",
       "  </tbody>\n",
       "</table>\n",
       "<p>10 rows × 110 columns</p>\n",
       "</div>"
      ],
      "text/plain": [
       "       Price Range  Number of Reviews  sample  Rating  rev_isna  \\\n",
       "1445           1.0               23.0       0     0.0         0   \n",
       "9817           0.0                7.0       0     0.0         0   \n",
       "15378          0.0               24.0       1     4.5         0   \n",
       "49366          2.0               31.0       1     4.5         0   \n",
       "18829          3.0              848.0       1     4.5         0   \n",
       "33032          2.0              109.0       1     3.5         0   \n",
       "24277          1.0              222.0       1     3.5         0   \n",
       "75             2.0              158.0       0     0.0         0   \n",
       "30040          2.0              208.0       1     4.5         0   \n",
       "8504           3.0                2.0       0     0.0         0   \n",
       "\n",
       "       dCity_Amsterdam  dCity_Athens  dCity_Barcelona  dCity_Berlin  \\\n",
       "1445                 0             0                1             0   \n",
       "9817                 0             0                0             0   \n",
       "15378                0             0                0             0   \n",
       "49366                0             0                0             0   \n",
       "18829                0             0                0             0   \n",
       "33032                0             0                0             0   \n",
       "24277                0             0                0             0   \n",
       "75                   0             0                0             0   \n",
       "30040                0             0                0             0   \n",
       "8504                 0             0                0             0   \n",
       "\n",
       "       dCity_Bratislava  ...  Thai  Turkish  VeganOptions  VegetarianFriendly  \\\n",
       "1445                  0  ...     0        0             0                   0   \n",
       "9817                  0  ...     0        0             0                   0   \n",
       "15378                 0  ...     0        0             0                   0   \n",
       "49366                 0  ...     0        0             0                   0   \n",
       "18829                 0  ...     0        0             0                   1   \n",
       "33032                 0  ...     0        0             0                   0   \n",
       "24277                 0  ...     0        0             0                   0   \n",
       "75                    0  ...     0        0             0                   1   \n",
       "30040                 0  ...     0        0             0                   1   \n",
       "8504                  0  ...     0        0             0                   0   \n",
       "\n",
       "       Vietnamese  WineBar  nRanking  Bar_Pub  Japan_Sushi      rev_date  \n",
       "1445            0        0  0.683947        0            0  3.490853e-15  \n",
       "9817            0        0  2.301411        0            0  3.490853e-15  \n",
       "15378           0        0  1.842137        0            0  3.490853e-15  \n",
       "49366           0        0  0.536344        0            0  3.490853e-15  \n",
       "18829           0        0  0.037983        0            0  3.490853e-15  \n",
       "33032           0        0  1.074984        1            0  3.490853e-15  \n",
       "24277           0        0  0.903860        0            0  3.490853e-15  \n",
       "75              0        0  0.437370        1            0  3.490853e-15  \n",
       "30040           0        0  0.208134        1            0  3.490853e-15  \n",
       "8504            0        0  1.566423        0            0  3.490853e-15  \n",
       "\n",
       "[10 rows x 110 columns]"
      ]
     },
     "execution_count": 38,
     "metadata": {},
     "output_type": "execute_result"
    }
   ],
   "source": [
    "df_preproc = preproc_data(data)\n",
    "df_preproc.sample(10)"
   ]
  },
  {
   "cell_type": "code",
   "execution_count": 39,
   "metadata": {},
   "outputs": [
    {
     "name": "stdout",
     "output_type": "stream",
     "text": [
      "<class 'pandas.core.frame.DataFrame'>\n",
      "RangeIndex: 50000 entries, 0 to 49999\n",
      "Columns: 110 entries, Price Range to rev_date\n",
      "dtypes: float64(5), int64(105)\n",
      "memory usage: 42.0 MB\n"
     ]
    }
   ],
   "source": [
    "\"\"\"Ещё раз посмотрим на все признаки, убедимся что нет пропусков\"\"\"\n",
    "df_preproc.info()"
   ]
  },
  {
   "cell_type": "code",
   "execution_count": 40,
   "metadata": {},
   "outputs": [],
   "source": [
    "# Теперь выделим тестовую часть\n",
    "train_data = df_preproc.query('sample == 1').drop(['sample'], axis=1)\n",
    "test_data = df_preproc.query('sample == 0').drop(['sample'], axis=1)\n",
    "\n",
    "y = train_data.Rating.values            # таргет\n",
    "X = train_data.drop(['Rating'], axis=1)"
   ]
  },
  {
   "cell_type": "code",
   "execution_count": 41,
   "metadata": {},
   "outputs": [
    {
     "data": {
      "text/plain": [
       "((10000, 109), (40000, 109), (40000, 108), (32000, 108), (8000, 108))"
      ]
     },
     "execution_count": 41,
     "metadata": {},
     "output_type": "execute_result"
    }
   ],
   "source": [
    "# разобьем данные, выделим 20% на валидацию\n",
    "X_train, X_test, y_train, y_test = train_test_split(X, y, test_size=0.2, random_state=RANDOM_SEED)\n",
    "test_data.shape, train_data.shape, X.shape, X_train.shape, X_test.shape # проверим"
   ]
  },
  {
   "cell_type": "markdown",
   "execution_count": null,
   "metadata": {},
   "source": [
    "# ML"
   ]
  },
  {
   "cell_type": "code",
   "execution_count": 42,
   "metadata": {},
   "outputs": [],
   "source": [
    "# Импортируем необходимые библиотеки:\n",
    "from sklearn.ensemble import RandomForestRegressor # инструмент для создания и обучения модели\n",
    "from sklearn import metrics # инструменты для оценки точности модели"
   ]
  },
  {
   "cell_type": "code",
   "execution_count": 43,
   "metadata": {},
   "outputs": [],
   "source": [
    "# Создаём модель\n",
    "regr = RandomForestRegressor(n_estimators=100)\n",
    "\n",
    "# Обучаем модель на тестовом наборе данных\n",
    "regr.fit(X_train, y_train)\n",
    "\n",
    "# Используем обученную модель для предсказания рейтинга ресторанов в тестовой выборке.\n",
    "# Предсказанные значения записываем в переменную y_pred\n",
    "y_pred = regr.predict(X_test)\n",
    "y_pred = (y_pred * 2).round() / 2"
   ]
  },
  {
   "cell_type": "code",
   "execution_count": 44,
   "metadata": {},
   "outputs": [
    {
     "name": "stdout",
     "output_type": "stream",
     "text": [
      "MAE: 0.17575\n"
     ]
    }
   ],
   "source": [
    "# Сравниваем предсказанные значения (y_pred) с реальными (y_test), и смотрим насколько они в среднем отличаются\n",
    "# Cчитаем Mean Absolute Error (MAE)\n",
    "print('MAE:', metrics.mean_absolute_error(y_test, y_pred))"
   ]
  },
  {
   "cell_type": "code",
   "execution_count": 45,
   "metadata": {},
   "outputs": [
    {
     "data": {
      "text/plain": [
       "<matplotlib.axes._subplots.AxesSubplot at 0x7f9bf56b4590>"
      ]
     },
     "execution_count": 45,
     "metadata": {},
     "output_type": "execute_result"
    },
    {
     "data": {
      "image/png": "[encoded data removed]",
      "text/plain": [
       "<Figure size 720x720 with 1 Axes>"
      ]
     },
     "metadata": {
      "needs_background": "light"
     },
     "output_type": "display_data"
    }
   ],
   "source": [
    "# Посмотрим на важность фич\n",
    "plt.rcParams['figure.figsize'] = (10,10)\n",
    "feat_importances = pd.Series(regr.feature_importances_, index=X.columns)\n",
    "feat_importances.nlargest(15).plot(kind='barh')"
   ]
  },
  {
   "cell_type": "markdown",
   "execution_count": null,
   "metadata": {},
   "source": [
    "# Submission"
   ]
  },
  {
   "cell_type": "code",
   "execution_count": 46,
   "metadata": {},
   "outputs": [
    {
     "data": {
      "text/html": [
       "<div>\n",
       "<style scoped>\n",
       "    .dataframe tbody tr th:only-of-type {\n",
       "        vertical-align: middle;\n",
       "    }\n",
       "\n",
       "    .dataframe tbody tr th {\n",
       "        vertical-align: top;\n",
       "    }\n",
       "\n",
       "    .dataframe thead th {\n",
       "        text-align: right;\n",
       "    }\n",
       "</style>\n",
       "<table border=\"1\" class=\"dataframe\">\n",
       "  <thead>\n",
       "    <tr style=\"text-align: right;\">\n",
       "      <th></th>\n",
       "      <th>Price Range</th>\n",
       "      <th>Number of Reviews</th>\n",
       "      <th>Rating</th>\n",
       "      <th>rev_isna</th>\n",
       "      <th>dCity_Amsterdam</th>\n",
       "      <th>dCity_Athens</th>\n",
       "      <th>dCity_Barcelona</th>\n",
       "      <th>dCity_Berlin</th>\n",
       "      <th>dCity_Bratislava</th>\n",
       "      <th>dCity_Brussels</th>\n",
       "      <th>...</th>\n",
       "      <th>Thai</th>\n",
       "      <th>Turkish</th>\n",
       "      <th>VeganOptions</th>\n",
       "      <th>VegetarianFriendly</th>\n",
       "      <th>Vietnamese</th>\n",
       "      <th>WineBar</th>\n",
       "      <th>nRanking</th>\n",
       "      <th>Bar_Pub</th>\n",
       "      <th>Japan_Sushi</th>\n",
       "      <th>rev_date</th>\n",
       "    </tr>\n",
       "  </thead>\n",
       "  <tbody>\n",
       "    <tr>\n",
       "      <th>2560</th>\n",
       "      <td>1.0</td>\n",
       "      <td>7.0</td>\n",
       "      <td>0.0</td>\n",
       "      <td>0</td>\n",
       "      <td>0</td>\n",
       "      <td>0</td>\n",
       "      <td>0</td>\n",
       "      <td>0</td>\n",
       "      <td>0</td>\n",
       "      <td>0</td>\n",
       "      <td>...</td>\n",
       "      <td>0</td>\n",
       "      <td>0</td>\n",
       "      <td>0</td>\n",
       "      <td>0</td>\n",
       "      <td>0</td>\n",
       "      <td>0</td>\n",
       "      <td>0.920923</td>\n",
       "      <td>0</td>\n",
       "      <td>1</td>\n",
       "      <td>3.490853e-15</td>\n",
       "    </tr>\n",
       "    <tr>\n",
       "      <th>9966</th>\n",
       "      <td>2.0</td>\n",
       "      <td>35.0</td>\n",
       "      <td>0.0</td>\n",
       "      <td>0</td>\n",
       "      <td>0</td>\n",
       "      <td>0</td>\n",
       "      <td>0</td>\n",
       "      <td>0</td>\n",
       "      <td>0</td>\n",
       "      <td>0</td>\n",
       "      <td>...</td>\n",
       "      <td>0</td>\n",
       "      <td>0</td>\n",
       "      <td>0</td>\n",
       "      <td>0</td>\n",
       "      <td>0</td>\n",
       "      <td>0</td>\n",
       "      <td>0.661816</td>\n",
       "      <td>0</td>\n",
       "      <td>0</td>\n",
       "      <td>-6.144467e-03</td>\n",
       "    </tr>\n",
       "    <tr>\n",
       "      <th>5098</th>\n",
       "      <td>0.0</td>\n",
       "      <td>44.0</td>\n",
       "      <td>0.0</td>\n",
       "      <td>0</td>\n",
       "      <td>0</td>\n",
       "      <td>0</td>\n",
       "      <td>0</td>\n",
       "      <td>0</td>\n",
       "      <td>0</td>\n",
       "      <td>0</td>\n",
       "      <td>...</td>\n",
       "      <td>0</td>\n",
       "      <td>0</td>\n",
       "      <td>0</td>\n",
       "      <td>0</td>\n",
       "      <td>0</td>\n",
       "      <td>0</td>\n",
       "      <td>0.625222</td>\n",
       "      <td>0</td>\n",
       "      <td>0</td>\n",
       "      <td>3.490853e-15</td>\n",
       "    </tr>\n",
       "    <tr>\n",
       "      <th>4235</th>\n",
       "      <td>0.0</td>\n",
       "      <td>42.0</td>\n",
       "      <td>0.0</td>\n",
       "      <td>0</td>\n",
       "      <td>0</td>\n",
       "      <td>0</td>\n",
       "      <td>0</td>\n",
       "      <td>0</td>\n",
       "      <td>0</td>\n",
       "      <td>0</td>\n",
       "      <td>...</td>\n",
       "      <td>0</td>\n",
       "      <td>0</td>\n",
       "      <td>0</td>\n",
       "      <td>0</td>\n",
       "      <td>0</td>\n",
       "      <td>0</td>\n",
       "      <td>1.303206</td>\n",
       "      <td>0</td>\n",
       "      <td>0</td>\n",
       "      <td>3.490853e-15</td>\n",
       "    </tr>\n",
       "    <tr>\n",
       "      <th>8867</th>\n",
       "      <td>0.0</td>\n",
       "      <td>8.0</td>\n",
       "      <td>0.0</td>\n",
       "      <td>0</td>\n",
       "      <td>0</td>\n",
       "      <td>0</td>\n",
       "      <td>0</td>\n",
       "      <td>0</td>\n",
       "      <td>0</td>\n",
       "      <td>0</td>\n",
       "      <td>...</td>\n",
       "      <td>0</td>\n",
       "      <td>0</td>\n",
       "      <td>0</td>\n",
       "      <td>0</td>\n",
       "      <td>0</td>\n",
       "      <td>0</td>\n",
       "      <td>2.265542</td>\n",
       "      <td>0</td>\n",
       "      <td>1</td>\n",
       "      <td>3.490853e-15</td>\n",
       "    </tr>\n",
       "    <tr>\n",
       "      <th>8469</th>\n",
       "      <td>2.0</td>\n",
       "      <td>790.0</td>\n",
       "      <td>0.0</td>\n",
       "      <td>0</td>\n",
       "      <td>0</td>\n",
       "      <td>0</td>\n",
       "      <td>0</td>\n",
       "      <td>0</td>\n",
       "      <td>0</td>\n",
       "      <td>0</td>\n",
       "      <td>...</td>\n",
       "      <td>0</td>\n",
       "      <td>0</td>\n",
       "      <td>0</td>\n",
       "      <td>1</td>\n",
       "      <td>0</td>\n",
       "      <td>0</td>\n",
       "      <td>0.121282</td>\n",
       "      <td>0</td>\n",
       "      <td>0</td>\n",
       "      <td>3.490853e-15</td>\n",
       "    </tr>\n",
       "    <tr>\n",
       "      <th>7260</th>\n",
       "      <td>2.0</td>\n",
       "      <td>481.0</td>\n",
       "      <td>0.0</td>\n",
       "      <td>0</td>\n",
       "      <td>0</td>\n",
       "      <td>0</td>\n",
       "      <td>0</td>\n",
       "      <td>0</td>\n",
       "      <td>0</td>\n",
       "      <td>0</td>\n",
       "      <td>...</td>\n",
       "      <td>0</td>\n",
       "      <td>0</td>\n",
       "      <td>0</td>\n",
       "      <td>1</td>\n",
       "      <td>0</td>\n",
       "      <td>0</td>\n",
       "      <td>0.090090</td>\n",
       "      <td>1</td>\n",
       "      <td>0</td>\n",
       "      <td>3.490853e-15</td>\n",
       "    </tr>\n",
       "    <tr>\n",
       "      <th>3685</th>\n",
       "      <td>3.0</td>\n",
       "      <td>163.0</td>\n",
       "      <td>0.0</td>\n",
       "      <td>0</td>\n",
       "      <td>0</td>\n",
       "      <td>0</td>\n",
       "      <td>0</td>\n",
       "      <td>0</td>\n",
       "      <td>0</td>\n",
       "      <td>0</td>\n",
       "      <td>...</td>\n",
       "      <td>0</td>\n",
       "      <td>0</td>\n",
       "      <td>0</td>\n",
       "      <td>1</td>\n",
       "      <td>0</td>\n",
       "      <td>0</td>\n",
       "      <td>0.536748</td>\n",
       "      <td>0</td>\n",
       "      <td>0</td>\n",
       "      <td>3.490853e-15</td>\n",
       "    </tr>\n",
       "    <tr>\n",
       "      <th>6040</th>\n",
       "      <td>2.0</td>\n",
       "      <td>422.0</td>\n",
       "      <td>0.0</td>\n",
       "      <td>0</td>\n",
       "      <td>0</td>\n",
       "      <td>0</td>\n",
       "      <td>0</td>\n",
       "      <td>0</td>\n",
       "      <td>0</td>\n",
       "      <td>0</td>\n",
       "      <td>...</td>\n",
       "      <td>0</td>\n",
       "      <td>0</td>\n",
       "      <td>0</td>\n",
       "      <td>1</td>\n",
       "      <td>0</td>\n",
       "      <td>0</td>\n",
       "      <td>0.895925</td>\n",
       "      <td>1</td>\n",
       "      <td>0</td>\n",
       "      <td>7.559362e-03</td>\n",
       "    </tr>\n",
       "    <tr>\n",
       "      <th>6942</th>\n",
       "      <td>2.0</td>\n",
       "      <td>286.0</td>\n",
       "      <td>0.0</td>\n",
       "      <td>0</td>\n",
       "      <td>0</td>\n",
       "      <td>0</td>\n",
       "      <td>0</td>\n",
       "      <td>0</td>\n",
       "      <td>0</td>\n",
       "      <td>0</td>\n",
       "      <td>...</td>\n",
       "      <td>0</td>\n",
       "      <td>0</td>\n",
       "      <td>0</td>\n",
       "      <td>1</td>\n",
       "      <td>0</td>\n",
       "      <td>0</td>\n",
       "      <td>0.558276</td>\n",
       "      <td>0</td>\n",
       "      <td>0</td>\n",
       "      <td>3.490853e-15</td>\n",
       "    </tr>\n",
       "  </tbody>\n",
       "</table>\n",
       "<p>10 rows × 109 columns</p>\n",
       "</div>"
      ],
      "text/plain": [
       "      Price Range  Number of Reviews  Rating  rev_isna  dCity_Amsterdam  \\\n",
       "2560          1.0                7.0     0.0         0                0   \n",
       "9966          2.0               35.0     0.0         0                0   \n",
       "5098          0.0               44.0     0.0         0                0   \n",
       "4235          0.0               42.0     0.0         0                0   \n",
       "8867          0.0                8.0     0.0         0                0   \n",
       "8469          2.0              790.0     0.0         0                0   \n",
       "7260          2.0              481.0     0.0         0                0   \n",
       "3685          3.0              163.0     0.0         0                0   \n",
       "6040          2.0              422.0     0.0         0                0   \n",
       "6942          2.0              286.0     0.0         0                0   \n",
       "\n",
       "      dCity_Athens  dCity_Barcelona  dCity_Berlin  dCity_Bratislava  \\\n",
       "2560             0                0             0                 0   \n",
       "9966             0                0             0                 0   \n",
       "5098             0                0             0                 0   \n",
       "4235             0                0             0                 0   \n",
       "8867             0                0             0                 0   \n",
       "8469             0                0             0                 0   \n",
       "7260             0                0             0                 0   \n",
       "3685             0                0             0                 0   \n",
       "6040             0                0             0                 0   \n",
       "6942             0                0             0                 0   \n",
       "\n",
       "      dCity_Brussels  ...  Thai  Turkish  VeganOptions  VegetarianFriendly  \\\n",
       "2560               0  ...     0        0             0                   0   \n",
       "9966               0  ...     0        0             0                   0   \n",
       "5098               0  ...     0        0             0                   0   \n",
       "4235               0  ...     0        0             0                   0   \n",
       "8867               0  ...     0        0             0                   0   \n",
       "8469               0  ...     0        0             0                   1   \n",
       "7260               0  ...     0        0             0                   1   \n",
       "3685               0  ...     0        0             0                   1   \n",
       "6040               0  ...     0        0             0                   1   \n",
       "6942               0  ...     0        0             0                   1   \n",
       "\n",
       "      Vietnamese  WineBar  nRanking  Bar_Pub  Japan_Sushi      rev_date  \n",
       "2560           0        0  0.920923        0            1  3.490853e-15  \n",
       "9966           0        0  0.661816        0            0 -6.144467e-03  \n",
       "5098           0        0  0.625222        0            0  3.490853e-15  \n",
       "4235           0        0  1.303206        0            0  3.490853e-15  \n",
       "8867           0        0  2.265542        0            1  3.490853e-15  \n",
       "8469           0        0  0.121282        0            0  3.490853e-15  \n",
       "7260           0        0  0.090090        1            0  3.490853e-15  \n",
       "3685           0        0  0.536748        0            0  3.490853e-15  \n",
       "6040           0        0  0.895925        1            0  7.559362e-03  \n",
       "6942           0        0  0.558276        0            0  3.490853e-15  \n",
       "\n",
       "[10 rows x 109 columns]"
      ]
     },
     "execution_count": 46,
     "metadata": {},
     "output_type": "execute_result"
    }
   ],
   "source": [
    "test_data.sample(10)"
   ]
  },
  {
   "cell_type": "code",
   "execution_count": 47,
   "metadata": {},
   "outputs": [],
   "source": [
    "test_data = test_data.drop(['Rating'], axis=1)"
   ]
  },
  {
   "cell_type": "code",
   "execution_count": 48,
   "metadata": {},
   "outputs": [
    {
     "data": {
      "text/html": [
       "<div>\n",
       "<style scoped>\n",
       "    .dataframe tbody tr th:only-of-type {\n",
       "        vertical-align: middle;\n",
       "    }\n",
       "\n",
       "    .dataframe tbody tr th {\n",
       "        vertical-align: top;\n",
       "    }\n",
       "\n",
       "    .dataframe thead th {\n",
       "        text-align: right;\n",
       "    }\n",
       "</style>\n",
       "<table border=\"1\" class=\"dataframe\">\n",
       "  <thead>\n",
       "    <tr style=\"text-align: right;\">\n",
       "      <th></th>\n",
       "      <th>Restaurant_id</th>\n",
       "      <th>Rating</th>\n",
       "    </tr>\n",
       "  </thead>\n",
       "  <tbody>\n",
       "    <tr>\n",
       "      <th>0</th>\n",
       "      <td>id_0</td>\n",
       "      <td>2.0</td>\n",
       "    </tr>\n",
       "    <tr>\n",
       "      <th>1</th>\n",
       "      <td>id_1</td>\n",
       "      <td>2.5</td>\n",
       "    </tr>\n",
       "    <tr>\n",
       "      <th>2</th>\n",
       "      <td>id_2</td>\n",
       "      <td>4.0</td>\n",
       "    </tr>\n",
       "    <tr>\n",
       "      <th>3</th>\n",
       "      <td>id_3</td>\n",
       "      <td>1.0</td>\n",
       "    </tr>\n",
       "    <tr>\n",
       "      <th>4</th>\n",
       "      <td>id_4</td>\n",
       "      <td>4.0</td>\n",
       "    </tr>\n",
       "    <tr>\n",
       "      <th>...</th>\n",
       "      <td>...</td>\n",
       "      <td>...</td>\n",
       "    </tr>\n",
       "    <tr>\n",
       "      <th>9995</th>\n",
       "      <td>id_9995</td>\n",
       "      <td>3.0</td>\n",
       "    </tr>\n",
       "    <tr>\n",
       "      <th>9996</th>\n",
       "      <td>id_9996</td>\n",
       "      <td>1.5</td>\n",
       "    </tr>\n",
       "    <tr>\n",
       "      <th>9997</th>\n",
       "      <td>id_9997</td>\n",
       "      <td>4.5</td>\n",
       "    </tr>\n",
       "    <tr>\n",
       "      <th>9998</th>\n",
       "      <td>id_9998</td>\n",
       "      <td>1.0</td>\n",
       "    </tr>\n",
       "    <tr>\n",
       "      <th>9999</th>\n",
       "      <td>id_9999</td>\n",
       "      <td>2.5</td>\n",
       "    </tr>\n",
       "  </tbody>\n",
       "</table>\n",
       "<p>10000 rows × 2 columns</p>\n",
       "</div>"
      ],
      "text/plain": [
       "     Restaurant_id  Rating\n",
       "0             id_0     2.0\n",
       "1             id_1     2.5\n",
       "2             id_2     4.0\n",
       "3             id_3     1.0\n",
       "4             id_4     4.0\n",
       "...            ...     ...\n",
       "9995       id_9995     3.0\n",
       "9996       id_9996     1.5\n",
       "9997       id_9997     4.5\n",
       "9998       id_9998     1.0\n",
       "9999       id_9999     2.5\n",
       "\n",
       "[10000 rows x 2 columns]"
      ]
     },
     "execution_count": 48,
     "metadata": {},
     "output_type": "execute_result"
    }
   ],
   "source": [
    "sample_submission"
   ]
  },
  {
   "cell_type": "code",
   "execution_count": 49,
   "metadata": {},
   "outputs": [],
   "source": [
    "predict_submission = regr.predict(test_data)\n",
    "predict_submission = (predict_submission * 2).round() / 2"
   ]
  },
  {
   "cell_type": "code",
   "execution_count": 50,
   "metadata": {},
   "outputs": [
    {
     "data": {
      "text/plain": [
       "array([3. , 4.5, 4.5, ..., 3. , 4.5, 4.5])"
      ]
     },
     "execution_count": 50,
     "metadata": {},
     "output_type": "execute_result"
    }
   ],
   "source": [
    "predict_submission"
   ]
  },
  {
   "cell_type": "code",
   "execution_count": 51,
   "metadata": {},
   "outputs": [
    {
     "data": {
      "text/html": [
       "<div>\n",
       "<style scoped>\n",
       "    .dataframe tbody tr th:only-of-type {\n",
       "        vertical-align: middle;\n",
       "    }\n",
       "\n",
       "    .dataframe tbody tr th {\n",
       "        vertical-align: top;\n",
       "    }\n",
       "\n",
       "    .dataframe thead th {\n",
       "        text-align: right;\n",
       "    }\n",
       "</style>\n",
       "<table border=\"1\" class=\"dataframe\">\n",
       "  <thead>\n",
       "    <tr style=\"text-align: right;\">\n",
       "      <th></th>\n",
       "      <th>Restaurant_id</th>\n",
       "      <th>Rating</th>\n",
       "    </tr>\n",
       "  </thead>\n",
       "  <tbody>\n",
       "    <tr>\n",
       "      <th>0</th>\n",
       "      <td>id_0</td>\n",
       "      <td>3.0</td>\n",
       "    </tr>\n",
       "    <tr>\n",
       "      <th>1</th>\n",
       "      <td>id_1</td>\n",
       "      <td>4.5</td>\n",
       "    </tr>\n",
       "    <tr>\n",
       "      <th>2</th>\n",
       "      <td>id_2</td>\n",
       "      <td>4.5</td>\n",
       "    </tr>\n",
       "    <tr>\n",
       "      <th>3</th>\n",
       "      <td>id_3</td>\n",
       "      <td>4.5</td>\n",
       "    </tr>\n",
       "    <tr>\n",
       "      <th>4</th>\n",
       "      <td>id_4</td>\n",
       "      <td>4.5</td>\n",
       "    </tr>\n",
       "    <tr>\n",
       "      <th>5</th>\n",
       "      <td>id_5</td>\n",
       "      <td>4.5</td>\n",
       "    </tr>\n",
       "    <tr>\n",
       "      <th>6</th>\n",
       "      <td>id_6</td>\n",
       "      <td>3.0</td>\n",
       "    </tr>\n",
       "    <tr>\n",
       "      <th>7</th>\n",
       "      <td>id_7</td>\n",
       "      <td>1.0</td>\n",
       "    </tr>\n",
       "    <tr>\n",
       "      <th>8</th>\n",
       "      <td>id_8</td>\n",
       "      <td>4.0</td>\n",
       "    </tr>\n",
       "    <tr>\n",
       "      <th>9</th>\n",
       "      <td>id_9</td>\n",
       "      <td>4.5</td>\n",
       "    </tr>\n",
       "  </tbody>\n",
       "</table>\n",
       "</div>"
      ],
      "text/plain": [
       "  Restaurant_id  Rating\n",
       "0          id_0     3.0\n",
       "1          id_1     4.5\n",
       "2          id_2     4.5\n",
       "3          id_3     4.5\n",
       "4          id_4     4.5\n",
       "5          id_5     4.5\n",
       "6          id_6     3.0\n",
       "7          id_7     1.0\n",
       "8          id_8     4.0\n",
       "9          id_9     4.5"
      ]
     },
     "execution_count": 51,
     "metadata": {},
     "output_type": "execute_result"
    }
   ],
   "source": [
    "sample_submission['Rating'] = predict_submission\n",
    "sample_submission.to_csv('submission.csv', index=False)\n",
    "sample_submission.head(10)"
   ]
  }
 ],
 "metadata": {
  "kernelspec": {
   "display_name": "Python 3",
   "language": "python",
   "name": "python3"
  },
  "language_info": {
   "codemirror_mode": {
    "name": "ipython",
    "version": 3
   },
   "file_extension": ".py",
   "mimetype": "text/x-python",
   "name": "python",
   "nbconvert_exporter": "python",
   "pygments_lexer": "ipython3",
   "version": "3.7.6"
  }
 },
 "nbformat": 4,
 "nbformat_minor": 4
}
