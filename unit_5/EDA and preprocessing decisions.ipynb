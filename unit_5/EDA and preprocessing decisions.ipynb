{
 "cells": [
  {
   "cell_type": "code",
   "execution_count": 556,
   "metadata": {},
   "outputs": [],
   "source": [
    "import pandas as pd\n",
    "import numpy as np\n",
    "import seaborn as sns\n",
    "import matplotlib.pyplot as plt"
   ]
  },
  {
   "cell_type": "code",
   "execution_count": 557,
   "metadata": {},
   "outputs": [],
   "source": [
    "test = pd.read_csv('test.csv')\n",
    "# drive - привод\n",
    "# condition - состояние авто\n",
    "# customs - таможня\n",
    "# ownership - время владения\n",
    "cols = ['body_type', 'brand', 'color', 'fuel_type', 'model_date', 'name',\n",
    "        'num_of_doors', 'production_date', 'vehicle_config', 'vehicle_transmission',\n",
    "               'engine_displacement', 'engine_power', 'description', 'mileage', 'complectation', 'drive',\n",
    "               'wheel', 'condition', 'owners', 'PTS', 'customs', 'ownership', 'id']\n",
    "test.columns = cols\n",
    "test['sample'] = np.ones(len(test))"
   ]
  },
  {
   "cell_type": "code",
   "execution_count": 558,
   "metadata": {},
   "outputs": [],
   "source": [
    "train = pd.read_excel('bmw_train.xls', usecols='B:Z')\n",
    "y_train = train['price']\n",
    "train.drop(['idprice', 'price'], axis=1, inplace=True)\n",
    "\n",
    "train.columns = cols\n",
    "train['sample'] = np.zeros(len(train))"
   ]
  },
  {
   "cell_type": "code",
   "execution_count": 559,
   "metadata": {},
   "outputs": [],
   "source": [
    "# 'no_data' is replaced with np.nan\n",
    "train.ownership = train.ownership.apply(lambda x: np.nan if x == 'no_data' else x)\n",
    "train.engine_displacement = train.engine_displacement.apply(lambda x: np.nan if x == 'undefined LTR' else x)\n",
    "test.engine_displacement = test.engine_displacement.apply(lambda x: np.nan if x == 'undefined LTR' else x)\n",
    "train.complectation = train.complectation.apply(lambda x: np.nan if x == 'no_data' else x)\n",
    "train.drive = train.drive.apply(lambda x: np.nan if x == 'no_data' else x)\n",
    "train.condition = train.condition.apply(lambda x: np.nan if x == 'no_data' else x)\n",
    "train.owners = train.owners.apply(lambda x: np.nan if x == 'no_data' else x)\n",
    "train.PTS = train.PTS.apply(lambda x: np.nan if x == 'no_data' else x)\n",
    "train.customs = train.customs.apply(lambda x: np.nan if x == 'no_data' else x)\n",
    "\n",
    "# in target variable 'no_data' values were detected, drop these rows\n",
    "idx = y_train[y_train=='no_data'].index.tolist()\n",
    "train.drop(index=idx, inplace=True)"
   ]
  },
  {
   "cell_type": "code",
   "execution_count": 560,
   "metadata": {},
   "outputs": [],
   "source": [
    "data = pd.concat([train, test])"
   ]
  },
  {
   "cell_type": "code",
   "execution_count": 561,
   "metadata": {},
   "outputs": [],
   "source": [
    "# intrduce lists for numerical, categorical (multiclass) & binary features\n",
    "num_col = []\n",
    "cat_col = []\n",
    "bin_col = []"
   ]
  },
  {
   "cell_type": "markdown",
   "metadata": {},
   "source": [
    "# EDA"
   ]
  },
  {
   "cell_type": "markdown",
   "metadata": {},
   "source": [
    "- replace with 'other' class or not (check during stat assessment and model fitting)  \n",
    "- play with cat and num types in model_date, model_age, production_date, car_age\n",
    "- text clusterization for description col"
   ]
  },
  {
   "cell_type": "code",
   "execution_count": 563,
   "metadata": {},
   "outputs": [],
   "source": [
    "# usefull functions\n",
    "def categorical_data(col, data, rotate_xticks=False):\n",
    "    plt.figure(figsize=(10, 7))\n",
    "    data_toplot = data[col].value_counts(normalize=True).sort_index()\n",
    "    graph = sns.countplot(data[col], order=data_toplot.index)\n",
    "    ax = graph.axes\n",
    "    \n",
    "    if rotate_xticks:\n",
    "        graph.set_xticklabels(graph.get_xticklabels(), rotation=45)\n",
    "    \n",
    "    for bar, value in zip(ax.patches, data_toplot):\n",
    "        x_text = bar.get_x() + bar.get_width() / 2\n",
    "        y_text = bar.get_height()\n",
    "        ax.annotate('{}%'.format(round(100 * value, 2)), (x_text, y_text), ha='center', va='center',\n",
    "                    fontsize=11, color='black', rotation=0, xytext=(0, 10), textcoords='offset points')\n",
    "    plt.title('Histogram for ' + col)\n",
    "    plt.show()\n",
    "    \n",
    "def outliers_detection_IQR(col, data):\n",
    "    \n",
    "    # detect outliers in data[col]\n",
    "    \n",
    "    perc25 = data[col].quantile(0.25)\n",
    "    perc75 = data[col].quantile(0.75)\n",
    "    IQR = perc75 - perc25\n",
    "    left = perc25 - 1.5 * IQR\n",
    "    right = perc75 + 1.5 * IQR\n",
    "    print(col+' feature')\n",
    "    print('min: {0}, max: {1}'.format(data[col].min(), data[col].max()))\n",
    "    print('outlier boundaries: [{0}, {1}]'.format(left, right))\n",
    "    if len(data[~data[col].between(left, right)]) > 0:\n",
    "        print('ratio of outliers: {}'.format(len(data[(~data[col].between(left, right))&(~data[col].isna())])/len(data)))"
   ]
  },
  {
   "cell_type": "markdown",
   "metadata": {},
   "source": [
    "In EDA section I will almost concentrate on train dataset (in features' histograms and statistical tests) to avoid data leakage."
   ]
  },
  {
   "cell_type": "markdown",
   "metadata": {},
   "source": [
    "### How many nans we have"
   ]
  },
  {
   "cell_type": "code",
   "execution_count": 564,
   "metadata": {},
   "outputs": [
    {
     "data": {
      "text/html": [
       "<div>\n",
       "<style scoped>\n",
       "    .dataframe tbody tr th:only-of-type {\n",
       "        vertical-align: middle;\n",
       "    }\n",
       "\n",
       "    .dataframe tbody tr th {\n",
       "        vertical-align: top;\n",
       "    }\n",
       "\n",
       "    .dataframe thead th {\n",
       "        text-align: right;\n",
       "    }\n",
       "</style>\n",
       "<table border=\"1\" class=\"dataframe\">\n",
       "  <thead>\n",
       "    <tr style=\"text-align: right;\">\n",
       "      <th></th>\n",
       "      <th>train_data</th>\n",
       "      <th>test_data</th>\n",
       "    </tr>\n",
       "  </thead>\n",
       "  <tbody>\n",
       "    <tr>\n",
       "      <th>body_type</th>\n",
       "      <td>0</td>\n",
       "      <td>0</td>\n",
       "    </tr>\n",
       "    <tr>\n",
       "      <th>brand</th>\n",
       "      <td>0</td>\n",
       "      <td>0</td>\n",
       "    </tr>\n",
       "    <tr>\n",
       "      <th>color</th>\n",
       "      <td>0</td>\n",
       "      <td>0</td>\n",
       "    </tr>\n",
       "    <tr>\n",
       "      <th>fuel_type</th>\n",
       "      <td>0</td>\n",
       "      <td>0</td>\n",
       "    </tr>\n",
       "    <tr>\n",
       "      <th>model_date</th>\n",
       "      <td>0</td>\n",
       "      <td>0</td>\n",
       "    </tr>\n",
       "    <tr>\n",
       "      <th>name</th>\n",
       "      <td>0</td>\n",
       "      <td>0</td>\n",
       "    </tr>\n",
       "    <tr>\n",
       "      <th>num_of_doors</th>\n",
       "      <td>0</td>\n",
       "      <td>0</td>\n",
       "    </tr>\n",
       "    <tr>\n",
       "      <th>production_date</th>\n",
       "      <td>0</td>\n",
       "      <td>0</td>\n",
       "    </tr>\n",
       "    <tr>\n",
       "      <th>vehicle_config</th>\n",
       "      <td>0</td>\n",
       "      <td>0</td>\n",
       "    </tr>\n",
       "    <tr>\n",
       "      <th>vehicle_transmission</th>\n",
       "      <td>0</td>\n",
       "      <td>0</td>\n",
       "    </tr>\n",
       "    <tr>\n",
       "      <th>engine_displacement</th>\n",
       "      <td>3</td>\n",
       "      <td>1</td>\n",
       "    </tr>\n",
       "    <tr>\n",
       "      <th>engine_power</th>\n",
       "      <td>0</td>\n",
       "      <td>0</td>\n",
       "    </tr>\n",
       "    <tr>\n",
       "      <th>description</th>\n",
       "      <td>0</td>\n",
       "      <td>0</td>\n",
       "    </tr>\n",
       "    <tr>\n",
       "      <th>mileage</th>\n",
       "      <td>0</td>\n",
       "      <td>0</td>\n",
       "    </tr>\n",
       "    <tr>\n",
       "      <th>complectation</th>\n",
       "      <td>2488</td>\n",
       "      <td>0</td>\n",
       "    </tr>\n",
       "    <tr>\n",
       "      <th>drive</th>\n",
       "      <td>1175</td>\n",
       "      <td>0</td>\n",
       "    </tr>\n",
       "    <tr>\n",
       "      <th>wheel</th>\n",
       "      <td>0</td>\n",
       "      <td>0</td>\n",
       "    </tr>\n",
       "    <tr>\n",
       "      <th>condition</th>\n",
       "      <td>1175</td>\n",
       "      <td>0</td>\n",
       "    </tr>\n",
       "    <tr>\n",
       "      <th>owners</th>\n",
       "      <td>1175</td>\n",
       "      <td>0</td>\n",
       "    </tr>\n",
       "    <tr>\n",
       "      <th>PTS</th>\n",
       "      <td>1175</td>\n",
       "      <td>0</td>\n",
       "    </tr>\n",
       "    <tr>\n",
       "      <th>customs</th>\n",
       "      <td>1175</td>\n",
       "      <td>0</td>\n",
       "    </tr>\n",
       "    <tr>\n",
       "      <th>ownership</th>\n",
       "      <td>3663</td>\n",
       "      <td>2084</td>\n",
       "    </tr>\n",
       "    <tr>\n",
       "      <th>id</th>\n",
       "      <td>0</td>\n",
       "      <td>0</td>\n",
       "    </tr>\n",
       "    <tr>\n",
       "      <th>sample</th>\n",
       "      <td>0</td>\n",
       "      <td>0</td>\n",
       "    </tr>\n",
       "  </tbody>\n",
       "</table>\n",
       "</div>"
      ],
      "text/plain": [
       "                      train_data  test_data\n",
       "body_type                      0          0\n",
       "brand                          0          0\n",
       "color                          0          0\n",
       "fuel_type                      0          0\n",
       "model_date                     0          0\n",
       "name                           0          0\n",
       "num_of_doors                   0          0\n",
       "production_date                0          0\n",
       "vehicle_config                 0          0\n",
       "vehicle_transmission           0          0\n",
       "engine_displacement            3          1\n",
       "engine_power                   0          0\n",
       "description                    0          0\n",
       "mileage                        0          0\n",
       "complectation               2488          0\n",
       "drive                       1175          0\n",
       "wheel                          0          0\n",
       "condition                   1175          0\n",
       "owners                      1175          0\n",
       "PTS                         1175          0\n",
       "customs                     1175          0\n",
       "ownership                   3663       2084\n",
       "id                             0          0\n",
       "sample                         0          0"
      ]
     },
     "execution_count": 564,
     "metadata": {},
     "output_type": "execute_result"
    }
   ],
   "source": [
    "nulls_df = pd.concat([train.isnull().sum(), test.isnull().sum()], axis=1)\n",
    "nulls_df.columns = ['train_data', 'test_data']\n",
    "nulls_df"
   ]
  },
  {
   "cell_type": "markdown",
   "metadata": {},
   "source": [
    "There is no info about duration of ownership (the whole col 'ownership' is empty) in train data. In test data 54 % of 'ownership' is nan."
   ]
  },
  {
   "cell_type": "markdown",
   "metadata": {},
   "source": [
    "### 1. 'body_type'\n",
    "**image**"
   ]
  },
  {
   "cell_type": "code",
   "execution_count": 565,
   "metadata": {},
   "outputs": [
    {
     "data": {
      "image/png": "[encoded data removed]",
      "text/plain": [
       "<Figure size 720x504 with 1 Axes>"
      ]
     },
     "metadata": {
      "needs_background": "light"
     },
     "output_type": "display_data"
    }
   ],
   "source": [
    "categorical_data('body_type', train, rotate_xticks=True)"
   ]
  },
  {
   "cell_type": "markdown",
   "metadata": {},
   "source": [
    "The most popular body types are truck (внедорожник) and sedan (седан), they take up >85% of the data in total. **Maybe it makes sense to replace everything, which frequency is less than 0.8% (кабриолет, компактвэн, купе-хардтоп, родстер, универсал), with 'other' category.**"
   ]
  },
  {
   "cell_type": "code",
   "execution_count": 566,
   "metadata": {},
   "outputs": [],
   "source": [
    "cat_col.append('body_type')"
   ]
  },
  {
   "cell_type": "markdown",
   "metadata": {},
   "source": [
    "### 2. 'brand'"
   ]
  },
  {
   "cell_type": "code",
   "execution_count": 567,
   "metadata": {},
   "outputs": [
    {
     "data": {
      "text/plain": [
       "BMW    3663\n",
       "Name: brand, dtype: int64"
      ]
     },
     "execution_count": 567,
     "metadata": {},
     "output_type": "execute_result"
    }
   ],
   "source": [
    "train.brand.value_counts()"
   ]
  },
  {
   "cell_type": "code",
   "execution_count": 568,
   "metadata": {},
   "outputs": [
    {
     "data": {
      "text/plain": [
       "BMW    3837\n",
       "Name: brand, dtype: int64"
      ]
     },
     "execution_count": 568,
     "metadata": {},
     "output_type": "execute_result"
    }
   ],
   "source": [
    "test.brand.value_counts()"
   ]
  },
  {
   "cell_type": "markdown",
   "metadata": {},
   "source": [
    "Train dataset consists only of BMW cars. Here I take a look to test data and it have only BMW models too. It's a good news for competition, but the bad one if we want real-life model. If we want our model to predict price correctly for any car brand, we most likely need to include other brands to train dataset.\n",
    "**In this train dataset I will drop brand column.**"
   ]
  },
  {
   "cell_type": "markdown",
   "metadata": {},
   "source": [
    "### 3. 'color'"
   ]
  },
  {
   "cell_type": "code",
   "execution_count": 569,
   "metadata": {},
   "outputs": [
    {
     "data": {
      "image/png": "[encoded data removed]",
      "text/plain": [
       "<Figure size 720x504 with 1 Axes>"
      ]
     },
     "metadata": {
      "needs_background": "light"
     },
     "output_type": "display_data"
    }
   ],
   "source": [
    "categorical_data('color', train, rotate_xticks=True)"
   ]
  },
  {
   "cell_type": "markdown",
   "metadata": {},
   "source": [
    "Let's **replace least frequent colors (бежевый, жёлтый, зелёный, золотистый, оранжевый, пурпурный, розовый, фиолетовый) with 'other'** as I did earlier."
   ]
  },
  {
   "cell_type": "code",
   "execution_count": 570,
   "metadata": {},
   "outputs": [],
   "source": [
    "cat_col.append('color')"
   ]
  },
  {
   "cell_type": "markdown",
   "metadata": {},
   "source": [
    "### 4. 'fuel_type'"
   ]
  },
  {
   "cell_type": "code",
   "execution_count": 571,
   "metadata": {},
   "outputs": [
    {
     "name": "stdout",
     "output_type": "stream",
     "text": [
      "Train data\n"
     ]
    },
    {
     "data": {
      "image/png": "[encoded data removed]",
      "text/plain": [
       "<Figure size 720x504 with 1 Axes>"
      ]
     },
     "metadata": {
      "needs_background": "light"
     },
     "output_type": "display_data"
    }
   ],
   "source": [
    "print('Train data')\n",
    "categorical_data('fuel_type', train)"
   ]
  },
  {
   "cell_type": "code",
   "execution_count": 572,
   "metadata": {},
   "outputs": [
    {
     "name": "stdout",
     "output_type": "stream",
     "text": [
      "Test data\n"
     ]
    },
    {
     "data": {
      "image/png": "[encoded data removed]",
      "text/plain": [
       "<Figure size 720x504 with 1 Axes>"
      ]
     },
     "metadata": {
      "needs_background": "light"
     },
     "output_type": "display_data"
    }
   ],
   "source": [
    "print('Test data')\n",
    "categorical_data('fuel_type', test)"
   ]
  },
  {
   "cell_type": "markdown",
   "metadata": {},
   "source": [
    "Maybe it makes sense **to drop or modify in some way 'electro' and 'hybrid' type** because it is very unpopular car type (on Russian market for sure), which can confuse model."
   ]
  },
  {
   "cell_type": "code",
   "execution_count": 573,
   "metadata": {},
   "outputs": [],
   "source": [
    "cat_col.append('fuel_type')"
   ]
  },
  {
   "cell_type": "markdown",
   "metadata": {},
   "source": [
    "### 5. model_date\n",
    "Date when a model was released."
   ]
  },
  {
   "cell_type": "code",
   "execution_count": 574,
   "metadata": {},
   "outputs": [
    {
     "data": {
      "text/plain": [
       "Text(0, 0.5, 'Number of cars')"
      ]
     },
     "execution_count": 574,
     "metadata": {},
     "output_type": "execute_result"
    },
    {
     "data": {
      "image/png": "[encoded data removed]",
      "text/plain": [
       "<Figure size 432x288 with 1 Axes>"
      ]
     },
     "metadata": {
      "needs_background": "light"
     },
     "output_type": "display_data"
    }
   ],
   "source": [
    "chart = sns.scatterplot(x=train.model_date.value_counts().index.tolist(),\n",
    "               y=train.model_date.value_counts().values.tolist())\n",
    "\n",
    "chart.set_title('Scatterplot for model_date')\n",
    "chart.set_xlabel('Year')\n",
    "chart.set_ylabel('Number of cars')"
   ]
  },
  {
   "cell_type": "markdown",
   "metadata": {},
   "source": [
    "**Feature engeneering: car age** (how many years ago a car was released)."
   ]
  },
  {
   "cell_type": "code",
   "execution_count": 575,
   "metadata": {
    "scrolled": true
   },
   "outputs": [
    {
     "data": {
      "text/plain": [
       "Text(0, 0.5, 'Number of cars')"
      ]
     },
     "execution_count": 575,
     "metadata": {},
     "output_type": "execute_result"
    },
    {
     "data": {
      "image/png": "[encoded data removed]",
      "text/plain": [
       "<Figure size 432x288 with 1 Axes>"
      ]
     },
     "metadata": {
      "needs_background": "light"
     },
     "output_type": "display_data"
    }
   ],
   "source": [
    "# how old is the model\n",
    "model_age = 2020 - train.model_date\n",
    "\n",
    "\n",
    "chart = sns.scatterplot(x=model_age.value_counts().index.tolist(),\n",
    "                        y=model_age.value_counts().values.tolist())\n",
    "chart.set_title('Scatterplot for car_age')\n",
    "chart.set_xlabel('Age')\n",
    "chart.set_ylabel('Number of cars')"
   ]
  },
  {
   "cell_type": "code",
   "execution_count": 576,
   "metadata": {},
   "outputs": [],
   "source": [
    "data['model_age'] = 2020 - data.model_date"
   ]
  },
  {
   "cell_type": "markdown",
   "metadata": {},
   "source": [
    "**There are two ways**: 1) consider model_date as a categorical variable and try 'other' class for cars, say, released before 1960-70; 2) consider model_date as a numerical variable. Model_age also can be considered as categorical variable (with classe like >10, >20, >30... years)."
   ]
  },
  {
   "cell_type": "code",
   "execution_count": 577,
   "metadata": {},
   "outputs": [],
   "source": [
    "cat_col.append('model_date')\n",
    "num_col.append('model_age')"
   ]
  },
  {
   "cell_type": "markdown",
   "metadata": {},
   "source": [
    "### 6. 'name'\n",
    "Official name of the car model."
   ]
  },
  {
   "cell_type": "code",
   "execution_count": 578,
   "metadata": {},
   "outputs": [
    {
     "name": "stdout",
     "output_type": "stream",
     "text": [
      "Number of unque values in train data: 483 out of 3663 rows\n"
     ]
    }
   ],
   "source": [
    "print('Number of unque values in train data: {} out of {} rows'.format(train.name.nunique(), len(train)))"
   ]
  },
  {
   "cell_type": "code",
   "execution_count": 579,
   "metadata": {},
   "outputs": [
    {
     "data": {
      "text/plain": [
       "BMW X3  III (G01) 20d xDrive                         134\n",
       "BMW X1  II (F48) Рестайлинг 18d xDrive               112\n",
       "BMW 5 серия  VII (G30/G31) 520d xDrive                92\n",
       "BMW 2 серия Gran Coupe F44 218i                       90\n",
       "BMW X1  II (F48) Рестайлинг 20i xDrive                68\n",
       "                                                    ... \n",
       "BMW 3 серия  V (E90/E91/E92/E93) Рестайлинг 335d       1\n",
       "BMW 7 серия  V (F01/F02/F04) 750i                      1\n",
       "BMW 5 серия  VII (G30/G31) Рестайлинг 520d xDrive      1\n",
       "BMW 3 серия  II (E30) 316 Ecotronic                    1\n",
       "BMW Z4  III (G29) 30i                                  1\n",
       "Name: name, Length: 483, dtype: int64"
      ]
     },
     "execution_count": 579,
     "metadata": {},
     "output_type": "execute_result"
    }
   ],
   "source": [
    "train.name.value_counts()"
   ]
  },
  {
   "cell_type": "code",
   "execution_count": 580,
   "metadata": {},
   "outputs": [
    {
     "data": {
      "text/plain": [
       "35i 3.0 AT (306 л.с.) 4WD            193\n",
       "30d 3.0d AT (249 л.с.) 4WD           148\n",
       "520i 2.0 AT (184 л.с.)               103\n",
       "320i xDrive 2.0 AT (184 л.с.) 4WD     92\n",
       "320i 2.0 AT (184 л.с.)                91\n",
       "                                    ... \n",
       "525xi 3.0 MT (218 л.с.) 4WD            1\n",
       "535i 3.5 AT (235 л.с.)                 1\n",
       "525i 2.5 AT (170 л.с.)                 1\n",
       "318i 1.8 AT (140 л.с.)                 1\n",
       "740i 3.0 AT (326 л.с.)                 1\n",
       "Name: name, Length: 384, dtype: int64"
      ]
     },
     "execution_count": 580,
     "metadata": {},
     "output_type": "execute_result"
    }
   ],
   "source": [
    "test.name.value_counts()"
   ]
  },
  {
   "cell_type": "markdown",
   "metadata": {},
   "source": [
    "**Firstly, data formats in train and test should be agreed. Secondly, the most frequent names could be converted into dummy variables, other could be dropped.**"
   ]
  },
  {
   "cell_type": "markdown",
   "metadata": {},
   "source": [
    "### 7. 'num_of_doors'"
   ]
  },
  {
   "cell_type": "code",
   "execution_count": 581,
   "metadata": {},
   "outputs": [
    {
     "data": {
      "image/png": "[encoded data removed]",
      "text/plain": [
       "<Figure size 720x504 with 1 Axes>"
      ]
     },
     "metadata": {
      "needs_background": "light"
     },
     "output_type": "display_data"
    }
   ],
   "source": [
    "categorical_data('num_of_doors', train)"
   ]
  },
  {
   "cell_type": "markdown",
   "metadata": {},
   "source": [
    "Ordinary categorical variable with clean data."
   ]
  },
  {
   "cell_type": "code",
   "execution_count": 582,
   "metadata": {},
   "outputs": [],
   "source": [
    "cat_col.append('num_of_doors')"
   ]
  },
  {
   "cell_type": "markdown",
   "metadata": {},
   "source": [
    "### 8. 'production_date'\n",
    "Date when a car was produced.  \n",
    "Same research as with 'model_date'..."
   ]
  },
  {
   "cell_type": "code",
   "execution_count": 583,
   "metadata": {},
   "outputs": [
    {
     "data": {
      "text/plain": [
       "Text(0, 0.5, 'Number of cars')"
      ]
     },
     "execution_count": 583,
     "metadata": {},
     "output_type": "execute_result"
    },
    {
     "data": {
      "image/png": "[encoded data removed]",
      "text/plain": [
       "<Figure size 432x288 with 1 Axes>"
      ]
     },
     "metadata": {
      "needs_background": "light"
     },
     "output_type": "display_data"
    }
   ],
   "source": [
    "chart = sns.scatterplot(x=train.production_date.value_counts().index.tolist(),\n",
    "               y=train.production_date.value_counts().values.tolist())\n",
    "chart.set_title('Scatterplot for production_date')\n",
    "chart.set_xlabel('Year')\n",
    "chart.set_ylabel('Number of cars')"
   ]
  },
  {
   "cell_type": "markdown",
   "metadata": {},
   "source": [
    "Pay attention that production_date graph shows less tendency to rise than model_date."
   ]
  },
  {
   "cell_type": "markdown",
   "metadata": {},
   "source": [
    "**Feature engeneering: car age.**"
   ]
  },
  {
   "cell_type": "code",
   "execution_count": 584,
   "metadata": {},
   "outputs": [],
   "source": [
    "data['car_age'] = 2020 - data.production_date"
   ]
  },
  {
   "cell_type": "code",
   "execution_count": 585,
   "metadata": {},
   "outputs": [],
   "source": [
    "cat_col.append('production_date')\n",
    "num_col.append('car_age')"
   ]
  },
  {
   "cell_type": "markdown",
   "metadata": {},
   "source": [
    "### 9. 'vehicle_config'"
   ]
  },
  {
   "cell_type": "code",
   "execution_count": 586,
   "metadata": {},
   "outputs": [
    {
     "data": {
      "text/plain": [
       "SEDAN AUTOMATIC 2.0              755\n",
       "ALLROAD_5_DOORS AUTOMATIC 3.0    694\n",
       "ALLROAD_5_DOORS AUTOMATIC 2.0    665\n",
       "SEDAN AUTOMATIC 3.0              370\n",
       "ALLROAD_5_DOORS AUTOMATIC 4.4    131\n",
       "                                ... \n",
       "COUPE MECHANICAL 3.4               1\n",
       "SEDAN MECHANICAL 2.8               1\n",
       "WAGON_5_DOORS AUTOMATIC 2.2        1\n",
       "COUPE AUTOMATIC 1.6                1\n",
       "WAGON_5_DOORS AUTOMATIC 2.9        1\n",
       "Name: vehicle_config, Length: 117, dtype: int64"
      ]
     },
     "execution_count": 586,
     "metadata": {},
     "output_type": "execute_result"
    }
   ],
   "source": [
    "train.vehicle_config.value_counts()"
   ]
  },
  {
   "cell_type": "code",
   "execution_count": 587,
   "metadata": {},
   "outputs": [
    {
     "data": {
      "text/plain": [
       "ALLROAD_5_DOORS AUTOMATIC 3.0      850\n",
       "SEDAN AUTOMATIC 2.0                764\n",
       "ALLROAD_5_DOORS AUTOMATIC 2.0      534\n",
       "SEDAN AUTOMATIC 3.0                359\n",
       "SEDAN AUTOMATIC 2.5                155\n",
       "                                  ... \n",
       "WAGON_5_DOORS AUTOMATIC 2.8          1\n",
       "SEDAN ROBOT 5.0                      1\n",
       "COMPACTVAN AUTOMATIC 1.5             1\n",
       "COUPE MECHANICAL 1.8                 1\n",
       "HATCHBACK_3_DOORS AUTOMATIC 2.5      1\n",
       "Name: vehicle_config, Length: 99, dtype: int64"
      ]
     },
     "execution_count": 587,
     "metadata": {},
     "output_type": "execute_result"
    }
   ],
   "source": [
    "test.vehicle_config.value_counts()"
   ]
  },
  {
   "cell_type": "markdown",
   "metadata": {},
   "source": [
    "**Try to convert into dummy the most frequent values.**"
   ]
  },
  {
   "cell_type": "code",
   "execution_count": 588,
   "metadata": {},
   "outputs": [],
   "source": [
    "cat_col.append('vehicle_cofig')"
   ]
  },
  {
   "cell_type": "markdown",
   "metadata": {},
   "source": [
    "### 10. 'vehicle_transmission'"
   ]
  },
  {
   "cell_type": "code",
   "execution_count": 591,
   "metadata": {},
   "outputs": [
    {
     "data": {
      "image/png": "[encoded data removed]",
      "text/plain": [
       "<Figure size 720x504 with 1 Axes>"
      ]
     },
     "metadata": {
      "needs_background": "light"
     },
     "output_type": "display_data"
    }
   ],
   "source": [
    "categorical_data('vehicle_transmission', train)"
   ]
  },
  {
   "cell_type": "markdown",
   "metadata": {},
   "source": [
    "Ordinary categorical variable with clean but imbalanced data. **Try to merge manual (механическая) and robotic (роботизированная) into one class.**"
   ]
  },
  {
   "cell_type": "code",
   "execution_count": 592,
   "metadata": {},
   "outputs": [],
   "source": [
    "cat_col.append('vehicle_transmission')"
   ]
  },
  {
   "cell_type": "markdown",
   "metadata": {},
   "source": [
    "### 11. 'engine_displacement'"
   ]
  },
  {
   "cell_type": "code",
   "execution_count": 593,
   "metadata": {},
   "outputs": [
    {
     "name": "stdout",
     "output_type": "stream",
     "text": [
      "Ratio of nan in train: 0.000819000819000819\n",
      "Ratio of nan in test: 0.00026062027625749283\n"
     ]
    }
   ],
   "source": [
    "print('Ratio of nan in train: {}'.format(train.engine_displacement.isnull().sum()/len(train)))\n",
    "print('Ratio of nan in test: {}'.format(test.engine_displacement.isnull().sum()/len(test)))"
   ]
  },
  {
   "cell_type": "code",
   "execution_count": 594,
   "metadata": {},
   "outputs": [
    {
     "data": {
      "text/plain": [
       "0       3.0 LTR\n",
       "1       2.0 LTR\n",
       "2       3.0 LTR\n",
       "3       2.0 LTR\n",
       "4       4.4 LTR\n",
       "         ...   \n",
       "3679    3.0 LTR\n",
       "3680    2.0 LTR\n",
       "3681    3.0 LTR\n",
       "3682    2.0 LTR\n",
       "3683    3.0 LTR\n",
       "Name: engine_displacement, Length: 3663, dtype: object"
      ]
     },
     "execution_count": 594,
     "metadata": {},
     "output_type": "execute_result"
    }
   ],
   "source": [
    "train.engine_displacement"
   ]
  },
  {
   "cell_type": "markdown",
   "metadata": {},
   "source": [
    "The ratio of nan is very small, so we can **fill it with the mean or median value**. There is a tempation to consider this variable as numerical. **Let's do small manipulation for that.**"
   ]
  },
  {
   "cell_type": "code",
   "execution_count": 595,
   "metadata": {},
   "outputs": [],
   "source": [
    "train.engine_displacement = train.engine_displacement.apply(lambda x: str(x).replace('LTR', '')).astype(float)\n",
    "data.engine_displacement = data.engine_displacement.apply(lambda x: str(x).replace('LTR', '')).astype(float)"
   ]
  },
  {
   "cell_type": "code",
   "execution_count": 596,
   "metadata": {},
   "outputs": [],
   "source": [
    "num_col.append('engine_displacement')"
   ]
  },
  {
   "cell_type": "markdown",
   "metadata": {},
   "source": [
    "### 12. 'engine_power'"
   ]
  },
  {
   "cell_type": "code",
   "execution_count": 597,
   "metadata": {},
   "outputs": [
    {
     "data": {
      "text/plain": [
       "190 N12    481\n",
       "184 N12    475\n",
       "249 N12    410\n",
       "150 N12    236\n",
       "306 N12    166\n",
       "          ... \n",
       "75 N12       1\n",
       "188 N12      1\n",
       "329 N12      1\n",
       "238 N12      1\n",
       "125 N12      1\n",
       "Name: engine_power, Length: 81, dtype: int64"
      ]
     },
     "execution_count": 597,
     "metadata": {},
     "output_type": "execute_result"
    }
   ],
   "source": [
    "train.engine_power.value_counts()"
   ]
  },
  {
   "cell_type": "markdown",
   "metadata": {},
   "source": [
    "N12 is metric horsepower (unit of measurement).  \n",
    "1 metric horsepower = 0.9863 horsepower  \n",
    "So here I definetely deal with numerical variable. **Some magic and I will go further.**"
   ]
  },
  {
   "cell_type": "code",
   "execution_count": 598,
   "metadata": {},
   "outputs": [],
   "source": [
    "# here is magic\n",
    "train.engine_power = train.engine_power.apply(lambda x: str(x).replace('N12', '')).astype(float)\n",
    "data.engine_power = data.engine_power.apply(lambda x: str(x).replace('N12', '')).astype(float)"
   ]
  },
  {
   "cell_type": "code",
   "execution_count": 599,
   "metadata": {},
   "outputs": [],
   "source": [
    "num_col.append('engine_power')"
   ]
  },
  {
   "cell_type": "markdown",
   "metadata": {},
   "source": [
    "### 13. description"
   ]
  },
  {
   "cell_type": "code",
   "execution_count": 600,
   "metadata": {},
   "outputs": [
    {
     "data": {
      "text/plain": [
       "'BMW X6 35i Рестайлинг \\n   Автомобиль в идеальном внешнем и техническом состоянии , куплен у официального дилера БМВ Русланд Трейдинг в июне 2014 года , обслуживание автомобиль проходил в BMW Сервисе Сергея Смирнова . \\n   Юридически автомобиль полностью чист . Полный комплект ключей (2 шт) и документов (ПТС и СТС). Готов , при Вашем желании , присутствовать при переоформлении автомобиля в ГИБДД .\\n    Мотор , коробка , ходовая часть , трансмиссия , электрика абсолютно без нареканий и вложений . Всё работает штатно . Никаких подтёков и запотеваний .\\n    Родной , Оригинальный , Настоящий Пробег .\\n    Салон чистый и ухоженный . Не просиженный , не продавленный . В семье никто из нас не курит соответственно в машине тоже . \\n     Автомобиль не участвовал в ДТП . Любые проверки толщиномерами , жестянщиками и малярами только приветствуются . Два косметических окраса (капот , заднее левое крыло). Пластиковые элементы (бампера , передние крылья ) освежались . \\n    Комплектация :\\n- Led оптика\\n- Бесключевой доступ и запуск \\n- Комфорт салон с ломающимися спинками \\n- Вентиляция передних сидений\\n- Внутреннее зеркало заднего вида и наружные с автозатемнением \\n- Система навигации Professional \\n- Подсветка дверных ручек \\n- Камера заднего вида \\n- Камера 360\\n- Подогрев руля \\n- Подогрев передних сидений\\n- Подогрев заднего дивана (прошу обратить внимание что автомобиль пятиместный , никакого бессмысленного и ненужного мини-бара , который уменьшает посадочное место и без того не совсем большого автомобиля нету) \\n- Акустическая система Hifi\\n- Круиз контроль \\n- Доводчики дверей \\n- Доводчик крышки багажника \\n- Отделка салона деревом Bambus \\n    Колёса R21 215 стиль Оригинал разноширокие Перед 285 Зад 325 . Диски без трещин и сварки . \\n    Хранение автомобиля подземный гараж. \\n    Убедительная просьба звонить и писать если Вы на самом деле заинтересованы в покупке моего автомобиля.\\n     Обмен возможен на X5m e70 от 2011г, желательно белого цвета.'"
      ]
     },
     "execution_count": 600,
     "metadata": {},
     "output_type": "execute_result"
    }
   ],
   "source": [
    "train.description.iloc[0]"
   ]
  },
  {
   "cell_type": "markdown",
   "metadata": {},
   "source": [
    "Here is whole text in each row. At first glance I have three ideas. (1) Implement text clusterization. It would be time consuming and I'm not sure the effort is worth it. (2) Convert top popular words into dummy variables. The easiest way to safe some information. (3) Just drop."
   ]
  },
  {
   "cell_type": "markdown",
   "metadata": {},
   "source": [
    "### 14. 'mileage'"
   ]
  },
  {
   "cell_type": "code",
   "execution_count": 601,
   "metadata": {
    "scrolled": true
   },
   "outputs": [
    {
     "data": {
      "text/plain": [
       "Text(0.5, 1.0, 'Price (target) dependence on mileage')"
      ]
     },
     "execution_count": 601,
     "metadata": {},
     "output_type": "execute_result"
    },
    {
     "data": {
      "image/png": "[encoded data removed]",
      "text/plain": [
       "<Figure size 432x288 with 1 Axes>"
      ]
     },
     "metadata": {
      "needs_background": "light"
     },
     "output_type": "display_data"
    }
   ],
   "source": [
    "chart = sns.scatterplot(x=train.mileage, y=y_train)\n",
    "chart.set_title('Price (target) dependence on mileage')"
   ]
  },
  {
   "cell_type": "markdown",
   "metadata": {},
   "source": [
    "Cars with zero mileage have the biggest price range. Price difference then decreases with the rise of mileage."
   ]
  },
  {
   "cell_type": "code",
   "execution_count": 602,
   "metadata": {},
   "outputs": [
    {
     "data": {
      "text/plain": [
       "Text(0, 0.5, 'Count')"
      ]
     },
     "execution_count": 602,
     "metadata": {},
     "output_type": "execute_result"
    },
    {
     "data": {
      "image/png": "[encoded data removed]",
      "text/plain": [
       "<Figure size 864x360 with 2 Axes>"
      ]
     },
     "metadata": {
      "needs_background": "light"
     },
     "output_type": "display_data"
    }
   ],
   "source": [
    "fig, axes = plt.subplots(nrows=1, ncols=2, figsize=(12,5))\n",
    "train.mileage.hist(bins=20, ax=axes[0])\n",
    "test.mileage.hist(bins=20, ax=axes[1])\n",
    "plt.suptitle('Histogram for mileage')\n",
    "axes[0].set_title('Train')\n",
    "axes[1].set_title('Test')\n",
    "\n",
    "axes[0].set_xlabel('Mileage')\n",
    "axes[0].set_ylabel('Count')\n",
    "\n",
    "axes[1].set_xlabel('Mileage')\n",
    "axes[1].set_ylabel('Count')"
   ]
  },
  {
   "cell_type": "markdown",
   "metadata": {},
   "source": [
    "Histograms for train and test mileage are significantly different. **It would be better to add some samples with mileage from 10K to 200K km to train dataset.**"
   ]
  },
  {
   "cell_type": "markdown",
   "metadata": {},
   "source": [
    "The most part of train dataset are the cars with mileage <200K km. What about outliers?"
   ]
  },
  {
   "cell_type": "code",
   "execution_count": 603,
   "metadata": {},
   "outputs": [
    {
     "name": "stdout",
     "output_type": "stream",
     "text": [
      "mileage feature\n",
      "min: 0, max: 1000000\n",
      "outlier boundaries: [-205373.25, 342288.75]\n",
      "ratio of outliers: 0.01911001911001911\n"
     ]
    }
   ],
   "source": [
    "# by IQR\n",
    "outliers_detection_IQR('mileage', train)"
   ]
  },
  {
   "cell_type": "markdown",
   "metadata": {},
   "source": [
    "**Try to replace outliers in some way.**"
   ]
  },
  {
   "cell_type": "code",
   "execution_count": 604,
   "metadata": {},
   "outputs": [],
   "source": [
    "num_col.append('mileage')"
   ]
  },
  {
   "cell_type": "markdown",
   "metadata": {},
   "source": [
    "### 15. 'complectation'"
   ]
  },
  {
   "cell_type": "code",
   "execution_count": 605,
   "metadata": {},
   "outputs": [
    {
     "name": "stdout",
     "output_type": "stream",
     "text": [
      "Ratio of nan in train: 0.68\n"
     ]
    }
   ],
   "source": [
    "print('Ratio of nan in train: {}'.format(round(train.complectation.isnull().sum()/len(train), 2)))"
   ]
  },
  {
   "cell_type": "code",
   "execution_count": 606,
   "metadata": {},
   "outputs": [
    {
     "data": {
      "text/plain": [
       "(0                       NaN\n",
       " 1                       NaN\n",
       " 2                       NaN\n",
       " 3                       NaN\n",
       " 4                       NaN\n",
       "                ...         \n",
       " 3679                    NaN\n",
       " 3680      XDrive18d M Sport\n",
       " 3681                    NaN\n",
       " 3682    XDrive20i Advantage\n",
       " 3683                    NaN\n",
       " Name: complectation, Length: 3663, dtype: object,\n",
       " 0       ['[{\"name\":\"Безопасность\",\"values\":[\"Антипробу...\n",
       " 1       ['[{\"name\":\"Комфорт\",\"values\":[\"Круиз-контроль...\n",
       " 2       ['[{\"name\":\"Комфорт\",\"values\":[\"Круиз-контроль...\n",
       " 3       ['[{\"name\":\"Комфорт\",\"values\":[\"Круиз-контроль...\n",
       " 4       ['[{\"name\":\"Комфорт\",\"values\":[\"Круиз-контроль...\n",
       "                               ...                        \n",
       " 3832    ['[{\"name\":\"Комфорт\",\"values\":[\"Круиз-контроль...\n",
       " 3833    ['[{\"name\":\"Комфорт\",\"values\":[\"Круиз-контроль...\n",
       " 3834    ['[{\"name\":\"Комфорт\",\"values\":[\"Круиз-контроль...\n",
       " 3835    ['[{\"name\":\"Комфорт\",\"values\":[\"Круиз-контроль...\n",
       " 3836    ['[{\"name\":\"Комфорт\",\"values\":[\"Круиз-контроль...\n",
       " Name: complectation, Length: 3837, dtype: object)"
      ]
     },
     "execution_count": 606,
     "metadata": {},
     "output_type": "execute_result"
    }
   ],
   "source": [
    "train.complectation, test.complectation"
   ]
  },
  {
   "cell_type": "markdown",
   "metadata": {},
   "source": [
    "Train dataset has too much nan values in this feature. To use it in predictions one should add more data. **And the format of data in train and test should be agreed** (see the difference above). "
   ]
  },
  {
   "cell_type": "markdown",
   "metadata": {},
   "source": [
    "### 16. 'drive'"
   ]
  },
  {
   "cell_type": "code",
   "execution_count": 607,
   "metadata": {},
   "outputs": [
    {
     "name": "stdout",
     "output_type": "stream",
     "text": [
      "Ratio of nan in train: 0.32\n"
     ]
    }
   ],
   "source": [
    "print('Ratio of nan in train: {}'.format(round(train.drive.isnull().sum()/len(train), 2)))"
   ]
  },
  {
   "cell_type": "code",
   "execution_count": 608,
   "metadata": {},
   "outputs": [
    {
     "data": {
      "image/png": "[encoded data removed]",
      "text/plain": [
       "<Figure size 720x504 with 1 Axes>"
      ]
     },
     "metadata": {
      "needs_background": "light"
     },
     "output_type": "display_data"
    }
   ],
   "source": [
    "categorical_data('drive', train)"
   ]
  },
  {
   "cell_type": "markdown",
   "metadata": {},
   "source": [
    "Class 'передний' is only 0.6 % of data and nan values is about 32 %. **I will try to merge them into one class named 'other'.**"
   ]
  },
  {
   "cell_type": "code",
   "execution_count": 609,
   "metadata": {},
   "outputs": [],
   "source": [
    "cat_col.append('drive')"
   ]
  },
  {
   "cell_type": "markdown",
   "metadata": {},
   "source": [
    "### 17. 'wheel'"
   ]
  },
  {
   "cell_type": "code",
   "execution_count": 610,
   "metadata": {},
   "outputs": [
    {
     "data": {
      "text/plain": [
       "Левый     2487\n",
       "левый     1175\n",
       "Правый       1\n",
       "Name: wheel, dtype: int64"
      ]
     },
     "execution_count": 610,
     "metadata": {},
     "output_type": "execute_result"
    }
   ],
   "source": [
    "train.wheel.value_counts()"
   ]
  },
  {
   "cell_type": "code",
   "execution_count": 611,
   "metadata": {},
   "outputs": [
    {
     "data": {
      "text/plain": [
       "Левый    3837\n",
       "Name: wheel, dtype: int64"
      ]
     },
     "execution_count": 611,
     "metadata": {},
     "output_type": "execute_result"
    }
   ],
   "source": [
    "test.wheel.value_counts()"
   ]
  },
  {
   "cell_type": "markdown",
   "metadata": {},
   "source": [
    "I think it defenitely make sense **to drop this feature from dataset** because it has only one sample of right-hand drive."
   ]
  },
  {
   "cell_type": "code",
   "execution_count": 612,
   "metadata": {},
   "outputs": [],
   "source": [
    "data.drop(['wheel'], axis=1, inplace=True)\n",
    "train.drop(['wheel'], axis=1, inplace=True)\n",
    "test.drop(['wheel'], axis=1, inplace=True)"
   ]
  },
  {
   "cell_type": "markdown",
   "metadata": {},
   "source": [
    "### 18. 'condition'"
   ]
  },
  {
   "cell_type": "code",
   "execution_count": 613,
   "metadata": {},
   "outputs": [
    {
     "name": "stdout",
     "output_type": "stream",
     "text": [
      "Ratio of nan in train: 0.32\n"
     ]
    }
   ],
   "source": [
    "print('Ratio of nan in train: {}'.format(round(train.drive.isnull().sum()/len(train), 2)))"
   ]
  },
  {
   "cell_type": "code",
   "execution_count": 614,
   "metadata": {},
   "outputs": [
    {
     "data": {
      "text/plain": [
       "Не требует ремонта    2488\n",
       "Name: condition, dtype: int64"
      ]
     },
     "execution_count": 614,
     "metadata": {},
     "output_type": "execute_result"
    }
   ],
   "source": [
    "train.condition.value_counts()"
   ]
  },
  {
   "cell_type": "code",
   "execution_count": 615,
   "metadata": {},
   "outputs": [
    {
     "data": {
      "text/plain": [
       "Не требует ремонта    3837\n",
       "Name: condition, dtype: int64"
      ]
     },
     "execution_count": 615,
     "metadata": {},
     "output_type": "execute_result"
    }
   ],
   "source": [
    "test.condition.value_counts()"
   ]
  },
  {
   "cell_type": "markdown",
   "metadata": {},
   "source": [
    "**Remove this feature too.**"
   ]
  },
  {
   "cell_type": "code",
   "execution_count": 616,
   "metadata": {},
   "outputs": [],
   "source": [
    "data.drop(['condition'], axis=1, inplace=True)\n",
    "train.drop(['condition'], axis=1, inplace=True)\n",
    "test.drop(['condition'], axis=1, inplace=True)"
   ]
  },
  {
   "cell_type": "markdown",
   "metadata": {},
   "source": [
    "### 19. 'owners'"
   ]
  },
  {
   "cell_type": "code",
   "execution_count": 617,
   "metadata": {},
   "outputs": [
    {
     "name": "stdout",
     "output_type": "stream",
     "text": [
      "Ratio of nan in train: 0.32\n"
     ]
    }
   ],
   "source": [
    "print('Ratio of nan in train: {}'.format(round(train.owners.isnull().sum()/len(train), 2)))"
   ]
  },
  {
   "cell_type": "code",
   "execution_count": 618,
   "metadata": {},
   "outputs": [
    {
     "data": {
      "text/plain": [
       "3 или более    984\n",
       "1 владелец     812\n",
       "2 владельца    692\n",
       "Name: owners, dtype: int64"
      ]
     },
     "execution_count": 618,
     "metadata": {},
     "output_type": "execute_result"
    }
   ],
   "source": [
    "train.owners.value_counts()"
   ]
  },
  {
   "cell_type": "code",
   "execution_count": 619,
   "metadata": {},
   "outputs": [
    {
     "data": {
      "text/plain": [
       "3 или более    1516\n",
       "1 владелец     1309\n",
       "2 владельца    1012\n",
       "Name: owners, dtype: int64"
      ]
     },
     "execution_count": 619,
     "metadata": {},
     "output_type": "execute_result"
    }
   ],
   "source": [
    "test.owners.value_counts()"
   ]
  },
  {
   "cell_type": "code",
   "execution_count": 620,
   "metadata": {},
   "outputs": [
    {
     "data": {
      "image/png": "[encoded data removed]",
      "text/plain": [
       "<Figure size 720x504 with 1 Axes>"
      ]
     },
     "metadata": {
      "needs_background": "light"
     },
     "output_type": "display_data"
    }
   ],
   "source": [
    "categorical_data('owners', train)"
   ]
  },
  {
   "cell_type": "markdown",
   "metadata": {},
   "source": [
    "Proportion of nan is big enough, so **I will separate it into 'no_data' class.**"
   ]
  },
  {
   "cell_type": "markdown",
   "metadata": {},
   "source": [
    "### 20. 'PTS'"
   ]
  },
  {
   "cell_type": "code",
   "execution_count": 621,
   "metadata": {},
   "outputs": [
    {
     "name": "stdout",
     "output_type": "stream",
     "text": [
      "Ratio of nan in train: 0.32\n"
     ]
    }
   ],
   "source": [
    "print('Ratio of nan in train: {}'.format(round(train.PTS.isnull().sum()/len(train), 2)))"
   ]
  },
  {
   "cell_type": "code",
   "execution_count": 622,
   "metadata": {},
   "outputs": [
    {
     "data": {
      "text/plain": [
       "Оригинал    0.599782\n",
       "Дубликат    0.079443\n",
       "Name: PTS, dtype: float64"
      ]
     },
     "execution_count": 622,
     "metadata": {},
     "output_type": "execute_result"
    }
   ],
   "source": [
    "train.PTS.value_counts() / len(train)"
   ]
  },
  {
   "cell_type": "code",
   "execution_count": 623,
   "metadata": {},
   "outputs": [
    {
     "data": {
      "text/plain": [
       "Оригинал    0.902528\n",
       "Дубликат    0.097472\n",
       "Name: PTS, dtype: float64"
      ]
     },
     "execution_count": 623,
     "metadata": {},
     "output_type": "execute_result"
    }
   ],
   "source": [
    "test.PTS.value_counts() / len(test)"
   ]
  },
  {
   "cell_type": "markdown",
   "metadata": {},
   "source": [
    "In train PTS feature has the same class imbalance as in test data.  \n",
    "Proportion of nan is big enough, so **I will separate it into 'no_data' class.**"
   ]
  },
  {
   "cell_type": "markdown",
   "metadata": {},
   "source": [
    "### 21. 'customs' "
   ]
  },
  {
   "cell_type": "code",
   "execution_count": 624,
   "metadata": {},
   "outputs": [
    {
     "name": "stdout",
     "output_type": "stream",
     "text": [
      "Ratio of nan in train: 0.32\n"
     ]
    }
   ],
   "source": [
    "print('Ratio of nan in train: {}'.format(round(train.customs.isnull().sum()/len(train), 2)))"
   ]
  },
  {
   "cell_type": "code",
   "execution_count": 625,
   "metadata": {},
   "outputs": [
    {
     "data": {
      "text/plain": [
       "Растаможен    2488\n",
       "Name: customs, dtype: int64"
      ]
     },
     "execution_count": 625,
     "metadata": {},
     "output_type": "execute_result"
    }
   ],
   "source": [
    "train.customs.value_counts()"
   ]
  },
  {
   "cell_type": "code",
   "execution_count": 626,
   "metadata": {},
   "outputs": [
    {
     "data": {
      "text/plain": [
       "Растаможен    3837\n",
       "Name: customs, dtype: int64"
      ]
     },
     "execution_count": 626,
     "metadata": {},
     "output_type": "execute_result"
    }
   ],
   "source": [
    "test.customs.value_counts()"
   ]
  },
  {
   "cell_type": "markdown",
   "metadata": {},
   "source": [
    "**Remove this feature too.**"
   ]
  },
  {
   "cell_type": "code",
   "execution_count": 627,
   "metadata": {},
   "outputs": [],
   "source": [
    "data.drop(['customs'], axis=1, inplace=True)\n",
    "train.drop(['customs'], axis=1, inplace=True)\n",
    "test.drop(['customs'], axis=1, inplace=True)"
   ]
  },
  {
   "cell_type": "markdown",
   "metadata": {},
   "source": [
    "### 22. 'ownership' "
   ]
  },
  {
   "cell_type": "code",
   "execution_count": 628,
   "metadata": {},
   "outputs": [
    {
     "name": "stdout",
     "output_type": "stream",
     "text": [
      "Ratio of nan in train: 1.0\n",
      "Ratio of nan in test: 0.57\n"
     ]
    }
   ],
   "source": [
    "print('Ratio of nan in train: {}'.format(round(train.ownership.isnull().sum()/len(train), 2)))\n",
    "print('Ratio of nan in test: {}'.format(round(test.ownership.isnull().sum()/len(train), 2)))"
   ]
  },
  {
   "cell_type": "code",
   "execution_count": 629,
   "metadata": {},
   "outputs": [
    {
     "data": {
      "text/plain": [
       "1 год и 1 месяц        40\n",
       "1 год и 4 месяца       39\n",
       "1 год и 3 месяца       37\n",
       "1 год и 2 месяца       36\n",
       "1 год и 8 месяцев      33\n",
       "                       ..\n",
       "12 лет и 7 месяцев      1\n",
       "11 лет и 8 месяцев      1\n",
       "16 лет и 8 месяцев      1\n",
       "15 лет и 9 месяцев      1\n",
       "15 лет и 10 месяцев     1\n",
       "Name: ownership, Length: 157, dtype: int64"
      ]
     },
     "execution_count": 629,
     "metadata": {},
     "output_type": "execute_result"
    }
   ],
   "source": [
    "test.ownership.value_counts()"
   ]
  },
  {
   "cell_type": "markdown",
   "metadata": {},
   "source": [
    "Train dataset has no info about ownership and test dataset has about 60% of nan here. **Two ways: 1) add data to train with info about ownership and separate nan into 'no_data' class, 2) remove this feature.**"
   ]
  },
  {
   "cell_type": "markdown",
   "metadata": {},
   "source": [
    "### 23. 'id'"
   ]
  },
  {
   "cell_type": "code",
   "execution_count": 630,
   "metadata": {},
   "outputs": [
    {
     "name": "stdout",
     "output_type": "stream",
     "text": [
      "Length of train\n",
      "Before drop_duplicates:3663\n",
      "After drop_duplicates: 3517\n"
     ]
    }
   ],
   "source": [
    "print('Length of train\\nBefore drop_duplicates:{}'.format(len(train)))\n",
    "train.drop_duplicates(inplace=True), data.drop_duplicates(inplace=True)\n",
    "print('After drop_duplicates: {}'.format(len(train)))"
   ]
  },
  {
   "cell_type": "code",
   "execution_count": 631,
   "metadata": {},
   "outputs": [
    {
     "data": {
      "text/plain": [
       "0       1100270678\n",
       "1       1099961464\n",
       "2       1099394642\n",
       "3       1100342510\n",
       "4       1100518390\n",
       "           ...    \n",
       "3679    1099685866\n",
       "3680    1100055668\n",
       "3681    1099914324\n",
       "3682    1100055574\n",
       "3683    1096467230\n",
       "Name: id, Length: 3517, dtype: int64"
      ]
     },
     "execution_count": 631,
     "metadata": {},
     "output_type": "execute_result"
    }
   ],
   "source": [
    "train.id"
   ]
  },
  {
   "cell_type": "markdown",
   "metadata": {},
   "source": [
    "I think that id feature will then be useless for prediction because it is unique for each sample."
   ]
  }
 ],
 "metadata": {
  "kernelspec": {
   "display_name": "Python 3",
   "language": "python",
   "name": "python3"
  },
  "language_info": {
   "codemirror_mode": {
    "name": "ipython",
    "version": 3
   },
   "file_extension": ".py",
   "mimetype": "text/x-python",
   "name": "python",
   "nbconvert_exporter": "python",
   "pygments_lexer": "ipython3",
   "version": "3.8.2"
  }
 },
 "nbformat": 4,
 "nbformat_minor": 4
}
